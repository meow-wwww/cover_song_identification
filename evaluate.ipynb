{
 "cells": [
  {
   "cell_type": "code",
   "execution_count": 1,
   "id": "searching-comparison",
   "metadata": {},
   "outputs": [],
   "source": [
    "import mir_eval\n",
    "import torch\n",
    "import numpy as np\n",
    "from prepare_data_and_label import get_freq_grid\n",
    "\n",
    "def evaluate(y_pred_clean, y, num_floor):\n",
    "    '''\n",
    "    多样本(返回测评结果的均值) or 单样本\n",
    "    y_pred_clean: [N, 1, f, t] or [f, t], 需要先peak picking, 并且把unvoicing屏蔽掉\n",
    "    y:            [N, f, t]    or [f, t], label\n",
    "    num_floor:    0/1/2/3\n",
    "    y_pred_clean和y缩放无影响\n",
    "    '''\n",
    "    \n",
    "    if len(y_pred_clean.shape) == 2 and y_pred_clean.shape == y.shape:\n",
    "        y_pred_clean = y_pred_clean.cpu()\n",
    "        y = y.cpu()\n",
    "    elif len(y_pred_clean.shape) == 4 and len(y.shape) == 3 and y_pred_clean.shape[-2:] == y.shape[-2:]:\n",
    "        y_pred_clean = y_pred_clean.squeeze(1)\n",
    "        y_pred_clean = torch.cat(tuple(y_pred_clean), dim=1).cpu()\n",
    "        y = torch.cat(tuple(y), dim=1).cpu()\n",
    "    else:\n",
    "        assert False, ('输入有误，既不是规范的单样本也不是规范的多样本')\n",
    "    \n",
    "    est_time = np.arange(y_pred_clean.shape[1])\n",
    "    est_freq = y_pred_clean.argmax(0)\n",
    "    ref_time = est_time\n",
    "    ref_freq = y.argmax(0)\n",
    "    \n",
    "    # 标记unvoicing\n",
    "    ref_freq[y[ref_freq, ref_time]<=0] = -1\n",
    "    est_freq[y_pred_clean[est_freq, est_time]<=0] = -1 # 这里的-1只是下标\n",
    "                                                       # 要转换成表示unvoicing的0Hz还在后面\n",
    "    \n",
    "    f = get_freq_grid()\n",
    "    idx = np.arange(0,360,2**num_floor)\n",
    "    freq = f[idx]\n",
    "    freq = np.append(freq, 0)\n",
    "    \n",
    "    ref_freq = freq[ref_freq]\n",
    "    est_freq = freq[est_freq]\n",
    "    \n",
    "    (ref_v, ref_c, est_v, est_c) = mir_eval.melody.to_cent_voicing(ref_time, ref_freq, est_time, est_freq, base_frequency=32.7)\n",
    "    \n",
    "    overall_accuracy = mir_eval.melody.overall_accuracy(ref_v, ref_c, est_v, est_c)\n",
    "    voicing_recall = mir_eval.melody.voicing_recall(ref_v, est_v)\n",
    "    voicing_false_alarm = mir_eval.melody.voicing_false_alarm(ref_v, est_v)\n",
    "    raw_pitch_accuracy = mir_eval.melody.raw_pitch_accuracy(ref_v, ref_c, est_v, est_c)\n",
    "    raw_chroma_accuracy = mir_eval.melody.raw_chroma_accuracy(ref_v, ref_c, est_v, est_c)\n",
    "    \n",
    "    return overall_accuracy,  voicing_recall, voicing_false_alarm, raw_pitch_accuracy, raw_chroma_accuracy"
   ]
  },
  {
   "cell_type": "code",
   "execution_count": 5,
   "id": "indoor-resource",
   "metadata": {},
   "outputs": [
    {
     "name": "stdout",
     "output_type": "stream",
     "text": [
      "[NbConvertApp] WARNING | Config option `kernel_spec_manager_class` not recognized by `NbConvertApp`.\n",
      "[NbConvertApp] Converting notebook evaluate.ipynb to python\n",
      "[NbConvertApp] Writing 2171 bytes to evaluate.py\n"
     ]
    }
   ],
   "source": [
    "try:\n",
    "    !jupyter nbconvert --to python evaluate.ipynb\n",
    "except:\n",
    "    pass"
   ]
  },
  {
   "cell_type": "code",
   "execution_count": null,
   "id": "documented-pearl",
   "metadata": {},
   "outputs": [],
   "source": []
  }
 ],
 "metadata": {
  "kernelspec": {
   "display_name": "Python 3",
   "language": "python",
   "name": "python3"
  },
  "language_info": {
   "codemirror_mode": {
    "name": "ipython",
    "version": 3
   },
   "file_extension": ".py",
   "mimetype": "text/x-python",
   "name": "python",
   "nbconvert_exporter": "python",
   "pygments_lexer": "ipython3",
   "version": "3.8.5"
  }
 },
 "nbformat": 4,
 "nbformat_minor": 5
}
