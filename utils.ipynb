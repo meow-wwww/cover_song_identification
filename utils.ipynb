{
 "cells": [
  {
   "cell_type": "code",
   "execution_count": 5,
   "id": "conscious-company",
   "metadata": {},
   "outputs": [],
   "source": [
    "import numpy as np\n",
    "import torch\n",
    "import torch.nn as nn"
   ]
  },
  {
   "cell_type": "markdown",
   "id": "classified-kitty",
   "metadata": {},
   "source": [
    "def salience_to_output(temp, threshold):\n",
    "    out = np.zeros_like(temp)\n",
    "    sm = nn.functional.softmax(torch.tensor(temp), dim=0)\n",
    "    sm[sm < threshold] = 0\n",
    "    idx = sm.argmax(axis=0)\n",
    "    for time, frq in enumerate(idx):\n",
    "        out[frq, time] = 1\n",
    "    return out"
   ]
  },
  {
   "cell_type": "code",
   "execution_count": null,
   "id": "sporting-mambo",
   "metadata": {},
   "outputs": [],
   "source": [
    "def salience_to_output(temp, threshold=0):\n",
    "    '''\n",
    "    Suitable for multisample.\n",
    "    temp: [N, c, f, t]\n",
    "    '''\n",
    "    out = torch.zeros_like(temp)\n",
    "    sm = nn.functional.softmax(temp, dim=2)    \n",
    "    sm[sm < threshold] = 0\n",
    "    indices = sm.max(axis=2).indices\n",
    "    for n in range(temp.shape[0]):\n",
    "        out[n,0].T.scatter_(dim=1, index=indices[n,0].reshape(33,-1), value=1)\n",
    "    return out"
   ]
  },
  {
   "cell_type": "code",
   "execution_count": 4,
   "id": "hollow-ecuador",
   "metadata": {},
   "outputs": [],
   "source": [
    "def downsample(batch_data, num_floor):\n",
    "    '''\n",
    "    batch_data: a batch of y. [N, f, t]\n",
    "    num_floor: 降采样到哪一层\n",
    "    返回值一定是0/1的，且每个时间点最多只有一个1\n",
    "    '''\n",
    "    rst = batch_data\n",
    "    with torch.no_grad():\n",
    "        for floor in range(0, num_floor):\n",
    "            rst = nn.AvgPool2d(kernel_size=2, stride=2, ceil_mode=True)(rst)        \n",
    "    rst = rst.bool().int()\n",
    "    \n",
    "    # 到这里rst一定是0/1的\n",
    "    \n",
    "    maxv, maxi = rst.topk(1, dim=1)\n",
    "    \n",
    "    rst_only = torch.zeros_like(rst)\n",
    "\n",
    "    index1 = torch.tensor([list(range(rst.shape[0]))]*rst.shape[2]).T.reshape(-1)\n",
    "    index2 = maxi.reshape(-1)\n",
    "    index3 = torch.tensor([list(range(rst.shape[2]))]*rst.shape[0]).reshape(-1)\n",
    "    \n",
    "    rst[index1, index2, index3] += 1\n",
    "    \n",
    "    rst_only[rst==2] = 1\n",
    "    \n",
    "    return rst_only"
   ]
  },
  {
   "cell_type": "code",
   "execution_count": 5,
   "id": "august-vanilla",
   "metadata": {},
   "outputs": [
    {
     "name": "stdout",
     "output_type": "stream",
     "text": [
      "[NbConvertApp] WARNING | Config option `kernel_spec_manager_class` not recognized by `NbConvertApp`.\n",
      "[NbConvertApp] Converting notebook utils.ipynb to python\n",
      "[NbConvertApp] Writing 1733 bytes to utils.py\n"
     ]
    }
   ],
   "source": [
    "if __name__ == '__main__':\n",
    "    try:\n",
    "        !jupyter nbconvert --to python utils.ipynb\n",
    "    except:\n",
    "        pass"
   ]
  },
  {
   "cell_type": "code",
   "execution_count": null,
   "id": "significant-biography",
   "metadata": {},
   "outputs": [],
   "source": []
  }
 ],
 "metadata": {
  "kernelspec": {
   "display_name": "Python 3",
   "language": "python",
   "name": "python3"
  },
  "language_info": {
   "codemirror_mode": {
    "name": "ipython",
    "version": 3
   },
   "file_extension": ".py",
   "mimetype": "text/x-python",
   "name": "python",
   "nbconvert_exporter": "python",
   "pygments_lexer": "ipython3",
   "version": "3.8.5"
  }
 },
 "nbformat": 4,
 "nbformat_minor": 5
}
