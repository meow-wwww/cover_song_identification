{
 "cells": [
  {
   "cell_type": "code",
   "execution_count": 1,
   "id": "conscious-company",
   "metadata": {},
   "outputs": [],
   "source": [
    "import numpy as np\n",
    "import torch\n",
    "import torch.nn as nn"
   ]
  },
  {
   "cell_type": "code",
   "execution_count": 2,
   "id": "deadly-version",
   "metadata": {},
   "outputs": [],
   "source": [
    "def salience_to_output(temp, threshold=0):\n",
    "    '''\n",
    "    Suitable for multisample.\n",
    "    temp: [N, 1, f, t] or [N, f, t]（已经softmax）\n",
    "    [OUTPUT]:每个时间步只有一个激活的0/1矩阵\n",
    "    计算损失函数的时候不用这个，要真实的输出时才会用这个函数\n",
    "    '''\n",
    "    \n",
    "    out = torch.zeros_like(temp)\n",
    "    sm = temp\n",
    "    sm[sm < threshold] = 0\n",
    "    # 到这里sm是部分为0，其余都小于等于1的矩阵\n",
    "\n",
    "    _, maxi = sm.topk(1, dim=-2)\n",
    "\n",
    "    index0 = torch.tensor([list(range(sm.shape[0]))]*sm.shape[-1]).T.reshape(-1)\n",
    "    index1 = torch.zeros((sm.shape[0]*sm.shape[-1],), dtype=torch.int64)\n",
    "    index2 = maxi.reshape(-1)\n",
    "    index3 = torch.tensor([list(range(sm.shape[-1]))]*sm.shape[0]).reshape(-1)\n",
    "\n",
    "    if len(temp.shape) == 4:\n",
    "        sm[index0, index1, index2, index3] += 1\n",
    "    elif len(temp.shape) == 3:\n",
    "        sm[index0, index2, index3] += 1\n",
    "        \n",
    "    out = torch.zeros_like(sm)\n",
    "    out[sm > 1] = 1\n",
    "    \n",
    "    return out"
   ]
  },
  {
   "cell_type": "code",
   "execution_count": 4,
   "id": "hollow-ecuador",
   "metadata": {},
   "outputs": [],
   "source": [
    "def downsample(batch_data, num_floor):\n",
    "    '''\n",
    "    batch_data: a batch of y. [N, f, t]\n",
    "    num_floor: 降采样到哪一层\n",
    "    返回值一定是0/1的，且每个时间点最多只有一个1\n",
    "    '''\n",
    "    rst = batch_data\n",
    "    with torch.no_grad():\n",
    "        for floor in range(0, num_floor):\n",
    "            rst = nn.AvgPool2d(kernel_size=2, stride=2, ceil_mode=True)(rst)        \n",
    "    rst = rst.bool().int()\n",
    "    \n",
    "    # 到这里rst一定是0/1的\n",
    "    \n",
    "    _, maxi = rst.topk(1, dim=1)\n",
    "    \n",
    "    rst_only = torch.zeros_like(rst)\n",
    "\n",
    "    index0 = torch.tensor([list(range(rst.shape[0]))]*rst.shape[2]).T.reshape(-1)\n",
    "    index1 = maxi.reshape(-1)\n",
    "    index2 = torch.tensor([list(range(rst.shape[2]))]*rst.shape[0]).reshape(-1)\n",
    "    \n",
    "    rst[index0, index1, index2] += 1\n",
    "    \n",
    "    rst_only[rst==2] = 1\n",
    "    \n",
    "    return rst_only"
   ]
  }
 ],
 "metadata": {
  "kernelspec": {
   "display_name": "Python 3",
   "language": "python",
   "name": "python3"
  },
  "language_info": {
   "codemirror_mode": {
    "name": "ipython",
    "version": 3
   },
   "file_extension": ".py",
   "mimetype": "text/x-python",
   "name": "python",
   "nbconvert_exporter": "python",
   "pygments_lexer": "ipython3",
   "version": "3.8.5"
  }
 },
 "nbformat": 4,
 "nbformat_minor": 5
}
