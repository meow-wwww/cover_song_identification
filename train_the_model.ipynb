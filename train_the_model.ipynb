{
 "cells": [
  {
   "cell_type": "code",
   "execution_count": 20,
   "id": "sonic-machine",
   "metadata": {
    "scrolled": true
   },
   "outputs": [
    {
     "name": "stdout",
     "output_type": "stream",
     "text": [
      "Using cuda device\n"
     ]
    }
   ],
   "source": [
    "import torch\n",
    "from torch import nn\n",
    "from torch.utils.data import DataLoader\n",
    "import matplotlib.pyplot as plt\n",
    "plt.switch_backend('agg')\n",
    "import random\n",
    "import datetime\n",
    "from tqdm import tqdm\n",
    "import argparse, os, math\n",
    "\n",
    "import data_generator\n",
    "import hparams\n",
    "import model_unet\n",
    "import numpy as np\n",
    "from loss_function import CrossEntropyLoss_Origin\n",
    "import utils\n",
    "import evaluate\n",
    "\n",
    "device = \"cuda\" if torch.cuda.is_available() else \"cpu\"\n",
    "print(\"Using {} device\".format(device))"
   ]
  },
  {
   "cell_type": "markdown",
   "id": "animated-verse",
   "metadata": {},
   "source": [
    "# argparse"
   ]
  },
  {
   "cell_type": "code",
   "execution_count": null,
   "id": "copyrighted-verse",
   "metadata": {
    "code_folding": []
   },
   "outputs": [],
   "source": [
    "save_dir = None\n",
    "lr = 0\n",
    "saved_model_path = None\n",
    "epochs = 0\n",
    "epochs_finished = 0\n",
    "num_floor = -1\n",
    "\n",
    "\n",
    "print('--------------ArgParse--------------')\n",
    "\n",
    "parser = argparse.ArgumentParser()\n",
    "\n",
    "parser.add_argument('--save_dir', help='目标存储目录')\n",
    "parser.add_argument('--saved_model', help='以训练过的模型')\n",
    "parser.add_argument('--lr', type=float, help='学习率')\n",
    "parser.add_argument('-e', '--epochs', type=int, help='有几个epoch')\n",
    "# parser.add_argument('--epochs_finished', type=int, help='已经完成了几个epoch')\n",
    "parser.add_argument('-o', '--out_floor', type=int, help='输出在第几层(0，1，2，3)')\n",
    "\n",
    "args = parser.parse_args()\n",
    "\n",
    "assert args.save_dir != None, ('请输入存储目录')\n",
    "if not os.path.exists(args.save_dir):\n",
    "    print(f'Save_dir {args.save_dir} does not exist. Will create one.')\n",
    "    save_dir = args.save_dir\n",
    "else:\n",
    "    print(f'Save_dir {args.save_dir} already exist. Will create {args.save_dir}_2 to avoid overwrite.')\n",
    "    save_dir = args.save_dir+'_2'\n",
    "os.mkdir(save_dir)\n",
    "\n",
    "if args.saved_model == None:\n",
    "    print('Don\\'t use saved model, train from scratch')\n",
    "else:\n",
    "    print(f'Use saved model[{arg.saved_model}], train from it')\n",
    "saved_model_path = args.saved_model\n",
    "\n",
    "if args.lr == None:\n",
    "    lr = 1e-3\n",
    "    print('Using default lr=1e-3')\n",
    "else:\n",
    "    lr = args.lr\n",
    "    print(f'Using lr from command: lr={lr}')\n",
    "\n",
    "assert args.epochs != None, ('请输入epochs数')\n",
    "epochs = args.epochs\n",
    "\n",
    "assert args.out_floor != None, ('请输入输出的层数')\n",
    "assert args.out_floor in [0,1,2,3], ('输入的层数必须为0 1 2 3之一')\n",
    "num_floor = args.out_floor"
   ]
  },
  {
   "cell_type": "markdown",
   "id": "fatal-configuration",
   "metadata": {},
   "source": [
    "# split data, generate train/test_dataloader"
   ]
  },
  {
   "cell_type": "code",
   "execution_count": 4,
   "id": "crazy-jenny",
   "metadata": {},
   "outputs": [
    {
     "name": "stdout",
     "output_type": "stream",
     "text": [
      "2021-07-09 11:41:18.971062 - Preparing train_dataloader...\n",
      "2021-07-09 11:41:28.249703 - Preparing valid_dataloader...\n"
     ]
    }
   ],
   "source": [
    "'''\n",
    "fold_index = list(range(10))\n",
    "random.shuffle(fold_index)\n",
    "test_fold_index = fold_index[0]\n",
    "validation_fold_index = fold_index[1]\n",
    "train_fold_index_list = fold_index[2:]\n",
    "'''\n",
    "train_fold_index_list = hparams.train_set_fold_index\n",
    "valid_fold_index_list = hparams.validation_set_fold_index\n",
    "\n",
    "# prepare dataloader\n",
    "print(f'{datetime.datetime.now()} - Preparing train_dataloader...')\n",
    "train_dataloader = data_generator.source_index_to_chunk_list(source_list=train_fold_index_list, \n",
    "                                                             data_chunks_duration_in_bins=hparams.data_chunks_duration_in_bins,\n",
    "                                                             data_chunks_overlap_in_bins=hparams.data_chunks_overlap_in_bins_for_training)#[0:32]\n",
    "print(f'{datetime.datetime.now()} - Preparing valid_dataloader...')\n",
    "valid_dataloader = data_generator.source_index_to_chunk_list(source_list=valid_fold_index_list,\n",
    "                                                             data_chunks_duration_in_bins=hparams.data_chunks_duration_in_bins,\n",
    "                                                             data_chunks_overlap_in_bins=hparams.data_chunks_overlap_in_bins_for_training)#[0:32]\n",
    "\n",
    "train_dataloader = DataLoader(train_dataloader, batch_size=hparams.batch_size, shuffle=True)\n",
    "valid_dataloader = DataLoader(valid_dataloader, batch_size=hparams.batch_size, shuffle=True)"
   ]
  },
  {
   "cell_type": "markdown",
   "id": "copyrighted-marathon",
   "metadata": {},
   "source": [
    "# train/test function"
   ]
  },
  {
   "cell_type": "code",
   "execution_count": 21,
   "id": "occasional-karma",
   "metadata": {
    "code_folding": []
   },
   "outputs": [],
   "source": [
    "# 一个epoch的训练\n",
    "def train(dataloader, model, loss_fn, optimizer, scheduler, out_floor):\n",
    "    model.train()\n",
    "    size = len(dataloader.dataset)\n",
    "    loss_total = 0\n",
    "    \n",
    "    for batch, (X, y) in tqdm(enumerate(dataloader)): # 每次返回一个batch\n",
    "        X, y = X.to(device), y.to(device)\n",
    "        \n",
    "        batch_size = len(X)\n",
    "\n",
    "        # Compute prediction error\n",
    "        pred = model(X, out_floor)\n",
    "        \n",
    "        if out_floor == 0:\n",
    "            loss = loss_fn(pred, y)\n",
    "        else:\n",
    "            # downsample y\n",
    "            y_downsample = utils.downsample(y, out_floor)\n",
    "            loss = loss_fn(pred, y_downsample)\n",
    "            \n",
    "        loss_total += loss.item()\n",
    "            \n",
    "        # Backpropagation\n",
    "        optimizer.zero_grad()\n",
    "        loss.backward()\n",
    "        optimizer.step()\n",
    "\n",
    "        if batch % 20 == 0:\n",
    "            loss, current = loss.item(), (batch + 1) * len(X)\n",
    "            print(f\"Avg loss: {loss/batch_size:>7f}  [{current:>5d}/{size:>5d}]\")\n",
    "    scheduler.step()\n",
    "    return loss_total/size\n",
    "            \n",
    "def test(dataloader, model, out_floor):\n",
    "    size = len(dataloader.dataset)\n",
    "    \n",
    "    model.eval()\n",
    "    test_loss = 0\n",
    "    oa_avg, vr_avg, vfa_avg, rpa_avg, rca_avg = 0, 0, 0, 0, 0\n",
    "    \n",
    "    with torch.no_grad():\n",
    "        for X, y in dataloader:\n",
    "            X, y = X.to(device), y.to(device)\n",
    "            Xpred = model(X, out_floor)\n",
    "            Xout = utils.salience_to_output(Xpred)\n",
    "            \n",
    "            if out_floor == 0:\n",
    "                loss = loss_fn(Xpred, y)\n",
    "                oa, vr, vfa, rpa, rca = evaluate.evaluate(Xout, y, out_floor)\n",
    "            else:\n",
    "                # downsample y\n",
    "                y_downsample = utils.downsample(y, out_floor)\n",
    "                loss = loss_fn(Xpred, y_downsample)\n",
    "                oa, vr, vfa, rpa, rca = evaluate.evaluate(Xout, y_downsample, out_floor)\n",
    "            \n",
    "            test_loss += loss.item()\n",
    "            oa_avg += oa\n",
    "            vr_avg += vr\n",
    "            vfa_avg += vfa\n",
    "            rpa_avg += rpa\n",
    "            rca_avg += rca\n",
    "            \n",
    "    test_loss /= size # 每张图的loss\n",
    "    \n",
    "    batch_num = math.ceil(size/dataloader.batch_size)\n",
    "    oa_avg /= batch_num\n",
    "    vr_avg /= batch_num\n",
    "    vfa_avg /= batch_num\n",
    "    rpa_avg /= batch_num\n",
    "    rca_avg /= batch_num\n",
    "    \n",
    "    print(f\"Test Error: Avg loss: {test_loss:>8f} \\n\")\n",
    "    print(f\"Test OA\\t{oa_avg}\\tVR\\t{vr_avg}\\tVFA\\t{vfa_avg}\\tRPA\\t{rpa_avg}\\tRCA\\t{rca_avg}\\n\")\n",
    "    \n",
    "    return test_loss, oa_avg, vr_avg, vfa_avg, rpa_avg, rca_avg"
   ]
  },
  {
   "cell_type": "markdown",
   "id": "behind-default",
   "metadata": {},
   "source": [
    "# 训练模型🌟"
   ]
  },
  {
   "cell_type": "code",
   "execution_count": 13,
   "id": "industrial-turning",
   "metadata": {
    "scrolled": true
   },
   "outputs": [
    {
     "name": "stdout",
     "output_type": "stream",
     "text": [
      "raw model\n",
      "Adjusting learning rate of group 0 to 0.0000e+00.\n"
     ]
    }
   ],
   "source": [
    "model = model_unet.UNet(device=device)\n",
    "if saved_model_path != None:\n",
    "    print(f'loading model from {saved_model_path}...')\n",
    "    model.load_state_dict(torch.load(saved_model_path))\n",
    "else:\n",
    "    print('raw model')\n",
    "optimizer = torch.optim.Adam(params=model.parameters(), lr=lr)\n",
    "scheduler_decay = torch.optim.lr_scheduler.ExponentialLR(optimizer, gamma=0.94, verbose=True)\n",
    "scheduler_stop = torch.optim.lr_scheduler.ReduceLROnPlateau(optimizer, mode='min', threshold=1e-3, factor=-1, patience=1000)\n",
    "loss_fn = CrossEntropyLoss_Origin().to(device)"
   ]
  },
  {
   "cell_type": "code",
   "execution_count": null,
   "id": "junior-eclipse",
   "metadata": {
    "scrolled": false
   },
   "outputs": [],
   "source": [
    "# 多个epoch训练，每个epoch后在验证集上测试\n",
    "\n",
    "train_loss_list = []\n",
    "valid_loss_list = []\n",
    "best_oa = -1\n",
    "\n",
    "for t in range(epochs_finished, epochs_finished+epochs):\n",
    "    print(f\"Epoch {t+1}\\n-------------------------------{datetime.datetime.now()}\")\n",
    "    train_loss = train(train_dataloader, model, loss_fn, optimizer, scheduler_decay, num_floor)\n",
    "    valid_loss, oa, _, _, _, _ = test(valid_dataloader, model, num_floor)\n",
    "    \n",
    "    train_loss_list.append(train_loss)\n",
    "    valid_loss_list.append(valid_loss)\n",
    "    \n",
    "    scheduler_stop.step(valid_loss)\n",
    "    \n",
    "    if optimizer.state_dict()['param_groups'][0]['lr']<=0:\n",
    "        print(f'Early stop after {t+1} epochs.')\n",
    "        break\n",
    "    \n",
    "    plt.plot(range(1,len(train_loss_list)+1), train_loss_list, c='b')\n",
    "    plt.plot(range(1,len(valid_loss_list)+1), valid_loss_list, c='r')\n",
    "    plt.savefig(os.path.join(save_dir, 'loss.png'))\n",
    "    \n",
    "    # 保存最优模型\n",
    "    if oa > best_oa:\n",
    "        print(f'[in epoch {t+1}, Overall Accuracy got new best: from {best_oa} to {oa}. Will save the model]')\n",
    "        best_oa = oa\n",
    "        torch.save(model.state_dict(), os.path.join(save_dir, f'model_floor{num_floor}_best.pth'))\n",
    "    \n",
    "print(\"Done!\")\n",
    "\n"
   ]
  },
  {
   "cell_type": "code",
   "execution_count": null,
   "id": "controlling-french",
   "metadata": {},
   "outputs": [],
   "source": [
    "try:\n",
    "    !jupyter nbconvert --to python train_the_model.ipynb\n",
    "except:\n",
    "    pass"
   ]
  },
  {
   "cell_type": "code",
   "execution_count": null,
   "id": "pediatric-airline",
   "metadata": {},
   "outputs": [],
   "source": []
  },
  {
   "cell_type": "code",
   "execution_count": null,
   "id": "swiss-phrase",
   "metadata": {},
   "outputs": [],
   "source": [
    "model.load_state_dict(torch.load('./train_result_floor_3/0526_f3_2/model_lr0.0001_floor3_epoch2.pth'))\n",
    "model.eval()"
   ]
  },
  {
   "cell_type": "code",
   "execution_count": null,
   "id": "criminal-directive",
   "metadata": {},
   "outputs": [],
   "source": [
    "out_floor = 3\n",
    "for idx, (X, y) in train_dataloader:\n",
    "    X, y = X.to(device), y.to(device)\n",
    "    pred = model(X, out_floor)\n",
    "\n",
    "    if out_floor == 0:\n",
    "        loss = loss_fn(pred, y)\n",
    "    else:\n",
    "        # downsample y\n",
    "        y_downsample = utils.downsample(y, out_floor)\n",
    "        loss = loss_fn(pred, y_downsample)\n",
    "\n",
    "    test_loss += loss.item()"
   ]
  }
 ],
 "metadata": {
  "kernelspec": {
   "display_name": "Python 3",
   "language": "python",
   "name": "python3"
  },
  "language_info": {
   "codemirror_mode": {
    "name": "ipython",
    "version": 3
   },
   "file_extension": ".py",
   "mimetype": "text/x-python",
   "name": "python",
   "nbconvert_exporter": "python",
   "pygments_lexer": "ipython3",
   "version": "3.8.5"
  }
 },
 "nbformat": 4,
 "nbformat_minor": 5
}
