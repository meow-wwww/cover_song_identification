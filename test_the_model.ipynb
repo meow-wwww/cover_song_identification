{
 "cells": [
  {
   "cell_type": "code",
   "execution_count": 6,
   "id": "sonic-machine",
   "metadata": {
    "scrolled": true
   },
   "outputs": [
    {
     "name": "stdout",
     "output_type": "stream",
     "text": [
      "Using cuda device\n"
     ]
    }
   ],
   "source": [
    "from imp import reload\n",
    "import torch\n",
    "from torch import nn\n",
    "from torch.utils.data import DataLoader\n",
    "import matplotlib.pyplot as plt\n",
    "import random\n",
    "import datetime\n",
    "from  tqdm import tqdm\n",
    "\n",
    "import data_generator\n",
    "import hparams\n",
    "import model_unet\n",
    "import numpy as np\n",
    "from loss_function import CrossEntropyLoss_Origin\n",
    "import utils\n",
    "reload(utils)\n",
    "\n",
    "device = \"cuda\" if torch.cuda.is_available() else \"cpu\"\n",
    "print(\"Using {} device\".format(device))"
   ]
  },
  {
   "cell_type": "code",
   "execution_count": null,
   "id": "occasional-karma",
   "metadata": {
    "code_folding": [
     0,
     26
    ]
   },
   "outputs": [],
   "source": [
    "def train(dataloader, model, loss_fn, optimizer, scheduler, out_floor):\n",
    "    model.train()\n",
    "    size = len(dataloader.dataset)\n",
    "    for batch, (X, y) in enumerate(dataloader): # 每次返回一个batch\n",
    "        X, y = X.to(device), y.to(device)\n",
    "\n",
    "        # Compute prediction error\n",
    "        pred = model(X, out_floor)\n",
    "        \n",
    "        if out_floor == 0:\n",
    "            loss = loss_fn(pred, y)\n",
    "        else:\n",
    "            # downsample y\n",
    "            y_downsample = utils.downsample(y, out_floor)\n",
    "            loss = loss_fn(pred, y_downsample)\n",
    "            \n",
    "        # Backpropagation\n",
    "        optimizer.zero_grad()\n",
    "        loss.backward()\n",
    "        optimizer.step()\n",
    "\n",
    "        if batch % 20 == 0:\n",
    "            loss, current = loss.item(), batch * len(X)\n",
    "            print(f\"Avg loss: {loss/size:>7f}  [{current:>5d}/{size:>5d}]\")\n",
    "    scheduler.step()\n",
    "            \n",
    "def test(dataloader, model, out_floor):\n",
    "    size = len(dataloader.dataset)\n",
    "    model.eval()\n",
    "    test_loss, correct = 0, 0\n",
    "    with torch.no_grad():\n",
    "        for X, y in dataloader:\n",
    "            X, y = X.to(device), y.to(device)\n",
    "            pred = model(X, out_floor)\n",
    "            \n",
    "            if out_floor == 0:\n",
    "                loss = loss_fn(pred, y)\n",
    "            else:\n",
    "                # downsample y\n",
    "                y_downsample = utils.downsample(y, out_floor)\n",
    "                loss = loss_fn(pred, y_downsample)\n",
    "            \n",
    "            test_loss += loss.item()\n",
    "            #correct += (pred.argmax(1) == y).type(torch.float).sum().item() # TODO\n",
    "    test_loss /= size\n",
    "    #correct /= size\n",
    "    #print(f\"Test Error: \\n Accuracy: {(100*correct):>0.1f}%, Avg loss: {test_loss:>8f} \\n\")\n",
    "    print(f\"Test Error: Avg loss: {test_loss:>8f} \\n\")\n",
    "    return test_loss"
   ]
  },
  {
   "cell_type": "markdown",
   "id": "fatal-configuration",
   "metadata": {},
   "source": [
    "# split data, generate train/test_dataloader"
   ]
  },
  {
   "cell_type": "code",
   "execution_count": 2,
   "id": "failing-stable",
   "metadata": {},
   "outputs": [],
   "source": [
    "'''\n",
    "fold_index = list(range(10))\n",
    "random.shuffle(fold_index)\n",
    "test_fold_index = fold_index[0]\n",
    "validation_fold_index = fold_index[1]\n",
    "train_fold_index_list = fold_index[2:]\n",
    "'''\n",
    "train_fold_index_list = hparams.train_set_fold_index\n",
    "valid_fold_index_list = hparams.validation_set_fold_index\n",
    "test_fold_index_list = hparams.test_set_fold_index"
   ]
  },
  {
   "cell_type": "markdown",
   "id": "behind-default",
   "metadata": {},
   "source": [
    "# have a try :)  Train"
   ]
  },
  {
   "cell_type": "code",
   "execution_count": null,
   "id": "velvet-supervision",
   "metadata": {},
   "outputs": [],
   "source": [
    "# prepare\n",
    "\n",
    "print(f'{datetime.datetime.now()} - Preparing train_dataloader...')\n",
    "train_dataloader = data_generator.source_index_to_chunk_list(source_list=train_fold_index_list)#[0:32]\n",
    "train_dataloader = DataLoader(train_dataloader, batch_size=1, shuffle=True)"
   ]
  },
  {
   "cell_type": "code",
   "execution_count": 3,
   "id": "crazy-jenny",
   "metadata": {},
   "outputs": [
    {
     "name": "stdout",
     "output_type": "stream",
     "text": [
      "2021-05-31 21:12:28.270292 - Preparing valid_dataloader...\n"
     ]
    }
   ],
   "source": [
    "print(f'{datetime.datetime.now()} - Preparing valid_dataloader...')\n",
    "valid_dataloader = data_generator.source_index_to_chunk_list(source_list=valid_fold_index_list)[0:32]\n",
    "valid_dataloader = DataLoader(valid_dataloader, batch_size=2, shuffle=True)\n",
    "\n",
    "\n",
    "test_dataloader = data_generator.source_index_to_chunk_list(source_list=test_fold_index_list)#[0:32]\n",
    "test_dataloader = DataLoader(test_dataloader, batch_size=1, shuffle=True)"
   ]
  },
  {
   "cell_type": "code",
   "execution_count": 4,
   "id": "resistant-hampton",
   "metadata": {},
   "outputs": [],
   "source": [
    "model = model_unet.UNet(device=device)\n",
    "model.load_state_dict(torch.load('./train_result_floor_3/0526_f3_2/model_lr0.0001_floor3_epoch2.pth'))\n",
    "\n",
    "\n",
    "model2 = model_unet.UNet(device=device)\n",
    "model2.load_state_dict(torch.load('./train_result_floor_3/0526_f3/B_model_lr0.001_floor3_epoch3.pth'))\n",
    "'''\n",
    "optimizer = torch.optim.Adam(params=model.parameters(), lr=1e-4)\n",
    "scheduler_decay = torch.optim.lr_scheduler.ExponentialLR(optimizer, gamma=0.94, verbose=True)\n",
    "scheduler_stop = torch.optim.lr_scheduler.ReduceLROnPlateau(optimizer, mode='min', threshold=1e-4, factor=-1, patience=10)\n",
    "'''\n",
    "\n",
    "loss_fn = CrossEntropyLoss_Origin().to(device)"
   ]
  },
  {
   "cell_type": "markdown",
   "id": "atmospheric-anxiety",
   "metadata": {},
   "source": [
    "epochs = 10\n",
    "num_floor = 3\n",
    "for t in range(epochs):\n",
    "    print(f\"Epoch {t+1}\\n-------------------------------{datetime.datetime.now()}\")\n",
    "    train(train_dataloader, model, loss_fn, optimizer, scheduler_decay, num_floor)\n",
    "    test_loss = test(valid_dataloader, model, num_floor)\n",
    "    scheduler_stop.step(test_loss)\n",
    "    if optimizer.state_dict()['param_groups'][0]['lr']<0:\n",
    "        print(f'Early stop after {t} epochs.')\n",
    "        break\n",
    "    torch.save(model.state_dict(), f'model_saved/model_floor3_epoch{t}.pth')\n",
    "print(\"Done!\")"
   ]
  },
  {
   "cell_type": "markdown",
   "id": "precise-wonder",
   "metadata": {
    "code_folding": []
   },
   "source": [
    "# 逐个比较损失"
   ]
  },
  {
   "cell_type": "code",
   "execution_count": 17,
   "id": "herbal-pottery",
   "metadata": {
    "code_folding": [],
    "scrolled": true
   },
   "outputs": [
    {
     "name": "stdout",
     "output_type": "stream",
     "text": [
      "torch.Size([2, 1, 45, 33]) torch.Size([2, 45, 33])\n",
      "(0.015151515151515152, 1.0, 1.0, 0.038461538461538464, 0.038461538461538464)\n"
     ]
    }
   ],
   "source": [
    "import evaluate\n",
    "reload(evaluate)\n",
    "\n",
    "out_floor = 3\n",
    "\n",
    "loss_fn = CrossEntropyLoss_Origin().to(device)\n",
    "\n",
    "model.eval()\n",
    "model2.eval()\n",
    "\n",
    "model_loss = 0\n",
    "model_loss_2 = 0\n",
    "\n",
    "\n",
    "with torch.no_grad():\n",
    "    for a,b in valid_dataloader:\n",
    "        X, y = a.to(device), b.to(device)\n",
    "\n",
    "        Xpred = model(X, out_floor)\n",
    "        y_downsample = utils.downsample(y, out_floor)\n",
    "        \n",
    "        clean = utils.salience_to_output(Xpred)\n",
    "        \n",
    "        print(evaluate.evaluate(clean, y_downsample, out_floor))\n",
    "        \n",
    "        '''temp = Xpred[0,0].detach().to('cpu').numpy()\n",
    "\n",
    "        clean = utils.salience_to_output(temp, threshold=0)\n",
    "\n",
    "        Xpred2 = model2(X, out_floor)\n",
    "\n",
    "        temp2 = Xpred2[0,0].detach().to('cpu').numpy()\n",
    "\n",
    "        clean2 = utils.salience_to_output(temp2, threshold=0)\n",
    "\n",
    "        model_loss += loss_fn(Xpred, y_downsample)\n",
    "        model_loss_2 += loss_fn(Xpred2, y_downsample)\n",
    "\n",
    "        if True:#loss_fn(Xpred, y_downsample) < loss_fn(Xpred2, y_downsample):\n",
    "\n",
    "            plt.subplot(231)\n",
    "            plt.imshow(y_downsample[0].detach().to('cpu').numpy(), origin='lower')\n",
    "            plt.subplot(232)\n",
    "            plt.imshow(temp, origin='lower')\n",
    "            plt.subplot(233)\n",
    "            plt.imshow(clean, origin='lower')\n",
    "\n",
    "            plt.subplot(234)\n",
    "            plt.imshow(y_downsample[0].detach().to('cpu').numpy(), origin='lower')\n",
    "            plt.subplot(235)\n",
    "            plt.imshow(temp2, origin='lower')\n",
    "            plt.subplot(236)\n",
    "            plt.imshow(clean2, origin='lower')\n",
    "            plt.show()\n",
    "            print(loss_fn(Xpred, y_downsample) , loss_fn(Xpred2, y_downsample))'''\n",
    "\n",
    "        break"
   ]
  },
  {
   "cell_type": "code",
   "execution_count": null,
   "id": "republican-fountain",
   "metadata": {},
   "outputs": [],
   "source": []
  },
  {
   "cell_type": "code",
   "execution_count": null,
   "id": "threaded-starter",
   "metadata": {
    "code_folding": [],
    "scrolled": true
   },
   "outputs": [],
   "source": [
    "loss_fn = CrossEntropyLoss_Origin().to(device)\n",
    "\n",
    "model.eval()\n",
    "model2.eval()\n",
    "\n",
    "X, y = None, None\n",
    "for a,b in tqdm(train_dataloader):\n",
    "    X, y = a.to(device), b.to(device)\n",
    "\n",
    "    Xpred = model(X, 2)\n",
    "    y_downsample = utils.downsample(y, 2)\n",
    "\n",
    "    temp = Xpred[0,0].detach().to('cpu').numpy()\n",
    "\n",
    "    clean = utils.salience_to_output(temp, threshold=0)\n",
    "\n",
    "\n",
    "    Xpred2 = model2(X, 2)\n",
    "\n",
    "    temp2 = Xpred2[0,0].detach().to('cpu').numpy()\n",
    "\n",
    "    clean2 = utils.salience_to_output(temp2, threshold=0)\n",
    "    \n",
    "    if loss_fn(Xpred, y_downsample) + 10 < loss_fn(Xpred2, y_downsample):\n",
    "    \n",
    "        plt.subplot(231)\n",
    "        plt.imshow(y_downsample[0].detach().to('cpu').numpy(), origin='lower')\n",
    "        plt.subplot(232)\n",
    "        plt.imshow(temp, origin='lower')\n",
    "        plt.subplot(233)\n",
    "        plt.imshow(clean, origin='lower')\n",
    "\n",
    "        plt.subplot(234)\n",
    "        plt.imshow(y_downsample[0].detach().to('cpu').numpy(), origin='lower')\n",
    "        plt.subplot(235)\n",
    "        plt.imshow(temp2, origin='lower')\n",
    "        plt.subplot(236)\n",
    "        plt.imshow(clean2, origin='lower')\n",
    "        plt.show()\n",
    "        print(loss_fn(Xpred, y_downsample) , loss_fn(Xpred2, y_downsample))"
   ]
  },
  {
   "cell_type": "markdown",
   "id": "substantial-brief",
   "metadata": {},
   "source": [
    "# 保存模型"
   ]
  },
  {
   "cell_type": "code",
   "execution_count": null,
   "id": "electric-marathon",
   "metadata": {},
   "outputs": [],
   "source": [
    "torch.save(model.state_dict(), 'model_12epoch.pth')\n",
    "\n",
    "model = model_unet.UNet(device=device)\n",
    "model.load_state_dict(torch.load('model_9epoch.pth'))"
   ]
  },
  {
   "cell_type": "code",
   "execution_count": null,
   "id": "pediatric-airline",
   "metadata": {},
   "outputs": [],
   "source": []
  },
  {
   "cell_type": "code",
   "execution_count": null,
   "id": "controlling-french",
   "metadata": {},
   "outputs": [],
   "source": [
    "try:\n",
    "    !jupyter nbconvert --to python train_the_model.ipynb\n",
    "except:\n",
    "    pass"
   ]
  }
 ],
 "metadata": {
  "kernelspec": {
   "display_name": "Python 3",
   "language": "python",
   "name": "python3"
  },
  "language_info": {
   "codemirror_mode": {
    "name": "ipython",
    "version": 3
   },
   "file_extension": ".py",
   "mimetype": "text/x-python",
   "name": "python",
   "nbconvert_exporter": "python",
   "pygments_lexer": "ipython3",
   "version": "3.8.5"
  }
 },
 "nbformat": 4,
 "nbformat_minor": 5
}
