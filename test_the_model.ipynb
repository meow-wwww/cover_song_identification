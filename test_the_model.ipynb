{
 "cells": [
  {
   "cell_type": "code",
   "execution_count": 1,
   "id": "sonic-machine",
   "metadata": {
    "scrolled": true
   },
   "outputs": [
    {
     "name": "stdout",
     "output_type": "stream",
     "text": [
      "Using cuda:3 device\n"
     ]
    }
   ],
   "source": [
    "from imp import reload\n",
    "import torch\n",
    "from torch import nn\n",
    "from torch.utils.data import DataLoader\n",
    "import matplotlib.pyplot as plt\n",
    "import random\n",
    "import datetime\n",
    "from  tqdm import tqdm\n",
    "import math\n",
    "\n",
    "import data_generator\n",
    "import hparams\n",
    "reload(hparams)\n",
    "import model_unet\n",
    "import numpy as np\n",
    "import loss_function\n",
    "import utils\n",
    "reload(utils)\n",
    "import evaluate\n",
    "\n",
    "device = \"cuda:3\" if torch.cuda.is_available() else \"cpu\"\n",
    "print(\"Using {} device\".format(device))"
   ]
  },
  {
   "cell_type": "code",
   "execution_count": 2,
   "id": "occasional-karma",
   "metadata": {
    "code_folding": []
   },
   "outputs": [],
   "source": [
    "# 一个epoch的训练+测试\n",
    "def train(dataloader, model, loss_fn, optimizer, scheduler, out_floor):\n",
    "    model.train()\n",
    "    size = len(dataloader.dataset)\n",
    "    batch_num = math.ceil(size/dataloader.batch_size)\n",
    "    loss_total = 0\n",
    "    \n",
    "    for batch, (X, y) in tqdm(enumerate(dataloader)): # 每次返回一个batch\n",
    "        X, y = X.to(device), y.to(device)\n",
    "        \n",
    "        batch_size = len(X)\n",
    "\n",
    "        # Compute prediction error\n",
    "        pred = model(X, out_floor)\n",
    "        \n",
    "        if out_floor == 0:\n",
    "            loss = loss_fn(pred, y)\n",
    "        else:\n",
    "            # downsample y\n",
    "            y_downsample = utils.downsample(y, out_floor)\n",
    "            loss = loss_fn(pred, y_downsample)\n",
    "            \n",
    "        loss_total += loss.item()\n",
    "            \n",
    "        # Backpropagation\n",
    "        optimizer.zero_grad()\n",
    "        loss.backward()\n",
    "        optimizer.step()\n",
    "\n",
    "        if (batch+1) % 100 == 0:\n",
    "            loss, current = loss.item(), (batch + 1) * len(X)\n",
    "            print(f\"Avg loss: {loss:>7f}  [{current:>5d}/{size:>5d}]\")\n",
    "    scheduler.step()\n",
    "    return loss_total/batch_num\n",
    "            \n",
    "def test(dataloader, model, loss_fn, out_floor):\n",
    "    size = len(dataloader.dataset)\n",
    "    batch_num = math.ceil(size/dataloader.batch_size)\n",
    "    \n",
    "    model.eval()\n",
    "    test_loss = 0\n",
    "    oa_avg, vr_avg, vfa_avg, rpa_avg, rca_avg = 0, 0, 0, 0, 0\n",
    "    \n",
    "    with torch.no_grad():\n",
    "        for X, y in dataloader:\n",
    "            X, y = X.to(device), y.to(device)\n",
    "            Xpred = model(X, out_floor)\n",
    "            Xout = utils.salience_to_output(Xpred, threshold=hparams.threshold)\n",
    "            \n",
    "            if out_floor == 0:\n",
    "                loss = loss_fn(Xpred, y)\n",
    "                oa, vr, vfa, rpa, rca = evaluate.evaluate(Xout, y, out_floor)\n",
    "            else:\n",
    "                # downsample y\n",
    "                y_downsample = utils.downsample(y, out_floor)\n",
    "                loss = loss_fn(Xpred, y_downsample)\n",
    "                oa, vr, vfa, rpa, rca = evaluate.evaluate(Xout, y_downsample, out_floor)\n",
    "            \n",
    "            test_loss += loss.item()\n",
    "            oa_avg += oa\n",
    "            vr_avg += vr\n",
    "            vfa_avg += vfa\n",
    "            rpa_avg += rpa\n",
    "            rca_avg += rca\n",
    "            \n",
    "    test_loss /= batch_num # 每张图的loss\n",
    "    \n",
    "    oa_avg /= batch_num\n",
    "    vr_avg /= batch_num\n",
    "    vfa_avg /= batch_num\n",
    "    rpa_avg /= batch_num\n",
    "    rca_avg /= batch_num\n",
    "    \n",
    "    print(f\"Test Error: Avg loss: {test_loss:.4f} \\n\")\n",
    "    print(f\"Test OA\\t{oa_avg:.4f}\\tVR\\t{vr_avg:.4f}\\tVFA\\t{vfa_avg:.4f}\\tRPA\\t{rpa_avg:.4f}\\tRCA\\t{rca_avg:.4f}\\n\")\n",
    "    \n",
    "    return test_loss, oa_avg, vr_avg, vfa_avg, rpa_avg, rca_avg"
   ]
  },
  {
   "cell_type": "markdown",
   "id": "fatal-configuration",
   "metadata": {},
   "source": [
    "# split data, generate train/test_dataloader"
   ]
  },
  {
   "cell_type": "code",
   "execution_count": 3,
   "id": "failing-stable",
   "metadata": {},
   "outputs": [],
   "source": [
    "'''\n",
    "fold_index = list(range(10))\n",
    "random.shuffle(fold_index)\n",
    "test_fold_index = fold_index[0]\n",
    "validation_fold_index = fold_index[1]\n",
    "train_fold_index_list = fold_index[2:]\n",
    "'''\n",
    "train_fold_index_list = hparams.train_set_fold_index\n",
    "valid_fold_index_list = hparams.validation_set_fold_index\n",
    "test_fold_index_list = hparams.test_set_fold_index"
   ]
  },
  {
   "cell_type": "markdown",
   "id": "behind-default",
   "metadata": {},
   "source": [
    "# have a try :)  Train"
   ]
  },
  {
   "cell_type": "code",
   "execution_count": 4,
   "id": "crazy-jenny",
   "metadata": {
    "code_folding": []
   },
   "outputs": [
    {
     "name": "stdout",
     "output_type": "stream",
     "text": [
      "2021-07-14 22:22:54.080051 - Preparing valid_dataloader...\n",
      "2021-07-14 22:22:54.426231 - Preparing test_dataloader...\n"
     ]
    }
   ],
   "source": [
    "# prepare\n",
    "\n",
    "'''\n",
    "print(f'{datetime.datetime.now()} - Preparing train_dataloader...')\n",
    "train_dataloader = data_generator.source_index_to_chunk_list(source_list=train_fold_index_list,\n",
    "                                                             data_chunks_duration_in_bins=hparams.data_chunks_duration_in_bins,\n",
    "                                                             data_chunks_overlap_in_bins=hparams.data_chunks_overlap_in_bins_for_training)[0:3000]\n",
    "train_dataloader = DataLoader(train_dataloader, batch_size=16, shuffle=True)\n",
    "'''\n",
    "\n",
    "print(f'{datetime.datetime.now()} - Preparing valid_dataloader...')\n",
    "valid_dataloader = data_generator.source_index_to_chunk_list(source_list=valid_fold_index_list,\n",
    "                                                             data_chunks_duration_in_bins=hparams.data_chunks_duration_in_bins,\n",
    "                                                             data_chunks_overlap_in_bins=hparams.data_chunks_overlap_in_bins_for_training)#[0:32]\n",
    "valid_dataloader = DataLoader(valid_dataloader, batch_size=16, shuffle=True)\n",
    "\n",
    "print(f'{datetime.datetime.now()} - Preparing test_dataloader...')\n",
    "test_dataloader = data_generator.source_index_to_chunk_list(source_list=test_fold_index_list,\n",
    "                                                             data_chunks_duration_in_bins=hparams.data_chunks_duration_in_bins,\n",
    "                                                             data_chunks_overlap_in_bins=hparams.data_chunks_overlap_in_bins_for_training)#[0:32]\n",
    "test_dataloader = DataLoader(test_dataloader, batch_size=16, shuffle=True)"
   ]
  },
  {
   "cell_type": "code",
   "execution_count": 6,
   "id": "thousand-creature",
   "metadata": {},
   "outputs": [],
   "source": [
    "# 测试模型在测试集上的效果\n",
    "model = model_unet.UNet()\n",
    "model = torch.load('./model/old_models_may_wrong/model_6.pth')"
   ]
  },
  {
   "cell_type": "code",
   "execution_count": 14,
   "id": "alpine-cotton",
   "metadata": {},
   "outputs": [
    {
     "name": "stdout",
     "output_type": "stream",
     "text": [
      "Test Error: Avg loss: 3.1876 \n",
      "\n",
      "Test OA\t0.5152\tVR\t0.9691\tVFA\t0.5733\tRPA\t0.5339\tRCA\t0.5538\n",
      "\n"
     ]
    },
    {
     "data": {
      "text/plain": [
       "(3.1875890469064516,\n",
       " 0.5152288188002473,\n",
       " 0.9690770608356857,\n",
       " 0.5733359412280292,\n",
       " 0.5338987722687191,\n",
       " 0.5537672508196211)"
      ]
     },
     "execution_count": 14,
     "metadata": {},
     "output_type": "execute_result"
    }
   ],
   "source": [
    "loss_fn = loss_function.CrossEntropyLoss_for_FA_CE().to(device)\n",
    "\n",
    "test(test_dataloader, model, loss_fn, 3)"
   ]
  },
  {
   "cell_type": "code",
   "execution_count": null,
   "id": "resistant-hampton",
   "metadata": {
    "code_folding": []
   },
   "outputs": [],
   "source": [
    "# 损失函数\n",
    "'''\n",
    "optimizer = torch.optim.Adam(params=model.parameters(), lr=1e-4)\n",
    "scheduler_decay = torch.optim.lr_scheduler.ExponentialLR(optimizer, gamma=0.94, verbose=True)\n",
    "scheduler_stop = torch.optim.lr_scheduler.ReduceLROnPlateau(optimizer, mode='min', threshold=1e-4, factor=-1, patience=10)\n",
    "'''\n"
   ]
  },
  {
   "cell_type": "markdown",
   "id": "precise-wonder",
   "metadata": {
    "code_folding": []
   },
   "source": [
    "# 逐个比较损失"
   ]
  },
  {
   "cell_type": "code",
   "execution_count": 79,
   "id": "herbal-pottery",
   "metadata": {
    "code_folding": [],
    "scrolled": false
   },
   "outputs": [
    {
     "name": "stdout",
     "output_type": "stream",
     "text": [
      "Xpred: torch.Size([2, 1, 45, 33])\n",
      "y_downsample: torch.Size([2, 45, 33])\n",
      "tensor(5.8931, device='cuda:3')\n",
      "(0.30303030303030304, 0.9545454545454546, 0.8636363636363636, 0.38636363636363635, 0.38636363636363635)\n",
      "------------\n"
     ]
    },
    {
     "data": {
      "image/png": "[encoded data removed]",
      "text/plain": [
       "<Figure size 432x288 with 8 Axes>"
      ]
     },
     "metadata": {
      "needs_background": "light"
     },
     "output_type": "display_data"
    }
   ],
   "source": [
    "import evaluate\n",
    "reload(evaluate)\n",
    "\n",
    "out_floor = 3\n",
    "\n",
    "model.eval()\n",
    "model_loss = 0.1\n",
    "\n",
    "loss_fn = loss_function.CrossEntropyLoss_for_FA_CE().to(device)\n",
    "\n",
    "with torch.no_grad():\n",
    "    for a, b in valid_dataloader:\n",
    "        X, y = a.to(device), b.to(device)\n",
    "        \n",
    "        X = X[0:2]\n",
    "        y = y[0:2]\n",
    "        \n",
    "        Xpred = model(X, out_floor)\n",
    "        Xshow = utils.salience_to_output(Xpred, threshold=0.1)\n",
    "        y_downsample = utils.downsample(y, out_floor).int()\n",
    "        print(f'Xpred: {Xpred.shape}')\n",
    "        print(f'y_downsample: {y_downsample.shape}')\n",
    "        \n",
    "        print(loss_fn(Xpred, y_downsample))\n",
    "        \n",
    "        print(evaluate.evaluate(Xshow, y_downsample, 3))\n",
    "        \n",
    "        plt.subplot(241)\n",
    "        plt.imshow(X[0][0].cpu(), origin='lower')\n",
    "        plt.subplot(242)\n",
    "        plt.imshow(Xpred[0][0].cpu(), origin='lower')\n",
    "        plt.subplot(243)\n",
    "        plt.imshow(Xshow[0][0].cpu(), origin='lower')\n",
    "        plt.subplot(244)\n",
    "        plt.imshow(y_downsample[0].cpu(), origin='lower')\n",
    "        \n",
    "        plt.subplot(245)\n",
    "        plt.imshow(X[1][0].cpu(), origin='lower')\n",
    "        plt.subplot(246)\n",
    "        plt.imshow(Xpred[1][0].cpu(), origin='lower')\n",
    "        plt.subplot(247)\n",
    "        plt.imshow(Xshow[1][0].cpu(), origin='lower')\n",
    "        plt.subplot(248)\n",
    "        plt.imshow(y_downsample[1].cpu(), origin='lower')\n",
    "        \n",
    "        print('------------')\n",
    "        \n",
    "        \n",
    "\n",
    "        break"
   ]
  },
  {
   "cell_type": "code",
   "execution_count": null,
   "id": "unlike-amount",
   "metadata": {},
   "outputs": [],
   "source": [
    "plt.subplot(131)\n",
    "plt.imshow(Xpred[0][0].cpu(), origin='lower')\n",
    "plt.subplot(132)\n",
    "plt.imshow(Xshow[0][0].cpu(), origin='lower')\n",
    "plt.subplot(133)\n",
    "plt.imshow(y_downsample[0].cpu(), origin='lower')"
   ]
  },
  {
   "cell_type": "code",
   "execution_count": null,
   "id": "rapid-vintage",
   "metadata": {},
   "outputs": [],
   "source": [
    "loss_fn(Xpred, y_downsample)"
   ]
  },
  {
   "cell_type": "code",
   "execution_count": null,
   "id": "destroyed-garbage",
   "metadata": {},
   "outputs": [],
   "source": [
    "import loss_function.CrossEntropyLoss_Origin as loss"
   ]
  },
  {
   "cell_type": "code",
   "execution_count": null,
   "id": "sophisticated-database",
   "metadata": {
    "code_folding": [
     0
    ]
   },
   "outputs": [],
   "source": [
    "for X, y in train_dataloader:\n",
    "\n",
    "    y_downsample = utils.downsample(y, 3)\n",
    "    \n",
    "    break\n",
    "\n",
    "plt.figure(figsize=(10,10))\n",
    "\n",
    "plt.subplot(231)\n",
    "plt.imshow(y[0], origin='lower')\n",
    "plt.subplot(232)\n",
    "plt.imshow(y_downsample[0], origin='lower')\n",
    "\n",
    "plt.subplot(234)\n",
    "plt.imshow(y[1], origin='lower')\n",
    "plt.subplot(235)\n",
    "plt.imshow(y_downsample[1], origin='lower')\n",
    "plt.show()"
   ]
  },
  {
   "cell_type": "code",
   "execution_count": null,
   "id": "heated-debate",
   "metadata": {},
   "outputs": [],
   "source": []
  },
  {
   "cell_type": "code",
   "execution_count": null,
   "id": "republican-fountain",
   "metadata": {},
   "outputs": [],
   "source": []
  },
  {
   "cell_type": "code",
   "execution_count": null,
   "id": "threaded-starter",
   "metadata": {
    "code_folding": [],
    "scrolled": true
   },
   "outputs": [],
   "source": [
    "loss_fn = CrossEntropyLoss_Origin().to(device)\n",
    "\n",
    "model.eval()\n",
    "model2.eval()\n",
    "\n",
    "X, y = None, None\n",
    "for a,b in tqdm(train_dataloader):\n",
    "    X, y = a.to(device), b.to(device)\n",
    "\n",
    "    Xpred = model(X, 2)\n",
    "    y_downsample = utils.downsample(y, 2)\n",
    "\n",
    "    temp = Xpred[0,0].detach().to('cpu').numpy()\n",
    "\n",
    "    clean = utils.salience_to_output(temp, threshold=0)\n",
    "\n",
    "\n",
    "    Xpred2 = model2(X, 2)\n",
    "\n",
    "    temp2 = Xpred2[0,0].detach().to('cpu').numpy()\n",
    "\n",
    "    clean2 = utils.salience_to_output(temp2, threshold=0)\n",
    "    \n",
    "    if loss_fn(Xpred, y_downsample) + 10 < loss_fn(Xpred2, y_downsample):\n",
    "    \n",
    "        plt.subplot(231)\n",
    "        plt.imshow(y_downsample[0].detach().to('cpu').numpy(), origin='lower')\n",
    "        plt.subplot(232)\n",
    "        plt.imshow(temp, origin='lower')\n",
    "        plt.subplot(233)\n",
    "        plt.imshow(clean, origin='lower')\n",
    "\n",
    "        plt.subplot(234)\n",
    "        plt.imshow(y_downsample[0].detach().to('cpu').numpy(), origin='lower')\n",
    "        plt.subplot(235)\n",
    "        plt.imshow(temp2, origin='lower')\n",
    "        plt.subplot(236)\n",
    "        plt.imshow(clean2, origin='lower')\n",
    "        plt.show()\n",
    "        print(loss_fn(Xpred, y_downsample) , loss_fn(Xpred2, y_downsample))"
   ]
  },
  {
   "cell_type": "markdown",
   "id": "substantial-brief",
   "metadata": {},
   "source": [
    "# 保存模型"
   ]
  },
  {
   "cell_type": "code",
   "execution_count": null,
   "id": "electric-marathon",
   "metadata": {},
   "outputs": [],
   "source": [
    "torch.save(model.state_dict(), 'model_12epoch.pth')\n",
    "\n",
    "model = model_unet.UNet(device=device)\n",
    "model.load_state_dict(torch.load('model_9epoch.pth'))"
   ]
  },
  {
   "cell_type": "code",
   "execution_count": null,
   "id": "pediatric-airline",
   "metadata": {},
   "outputs": [],
   "source": []
  },
  {
   "cell_type": "code",
   "execution_count": null,
   "id": "controlling-french",
   "metadata": {},
   "outputs": [],
   "source": [
    "try:\n",
    "    !jupyter nbconvert --to python train_the_model.ipynb\n",
    "except:\n",
    "    pass"
   ]
  }
 ],
 "metadata": {
  "kernelspec": {
   "display_name": "Python 3",
   "language": "python",
   "name": "python3"
  },
  "language_info": {
   "codemirror_mode": {
    "name": "ipython",
    "version": 3
   },
   "file_extension": ".py",
   "mimetype": "text/x-python",
   "name": "python",
   "nbconvert_exporter": "python",
   "pygments_lexer": "ipython3",
   "version": "3.8.5"
  }
 },
 "nbformat": 4,
 "nbformat_minor": 5
}
