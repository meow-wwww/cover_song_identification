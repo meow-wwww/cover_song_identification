{
 "cells": [
  {
   "cell_type": "code",
   "execution_count": 1,
   "id": "chronic-concentration",
   "metadata": {},
   "outputs": [],
   "source": [
    "import sys \n",
    "sys.path.append(\"../..\")\n",
    "from prepare_data_and_label import compute_hcqt\n",
    "import data_generator\n",
    "import model_unet\n",
    "import torch\n",
    "import torch.nn as nn\n",
    "import matplotlib.pyplot as plt\n",
    "import os\n",
    "import numpy as np\n",
    "from tqdm import tqdm"
   ]
  },
  {
   "cell_type": "code",
   "execution_count": null,
   "id": "applied-freeware",
   "metadata": {},
   "outputs": [],
   "source": [
    "you350_path = '/S3/DAA/jcy/SCNN/data/you350/audio/'\n",
    "you350_list = os.listdir(you350_path)\n",
    "\n",
    "model = model_unet.UNet().cuda()\n",
    "model = nn.DataParallel(model)\n",
    "model.load_state_dict(torch.load('../../model/th_0_4/0/model_floor0_best.pth'))\n",
    "model.eval()\n",
    "\n",
    "for file in tqdm(you350_list):\n",
    "    hcqt = compute_hcqt(os.path.join(you350_path, file))\n",
    "    out = data_generator.hcqt_to_melody(hcqt, model, threshold=0.4)\n",
    "    plt.figure(figsize=(40,40))\n",
    "    plt.imshow(out, origin='lower')\n",
    "    plt.show()\n",
    "    mean_size = 20\n",
    "    height, length = out.shape\n",
    "    new_cqt = np.zeros((height,int(length/mean_size)),dtype=np.float64)\n",
    "    for i in range(int(length/mean_size)):\n",
    "        new_cqt[:,i] = out[:,i*mean_size:(i+1)*mean_size].mean(axis=1)\n",
    "    # np.save(os.path.join('./you350/', file.split('.')[0]+'.npy'), new_cqt)\n",
    "    plt.figure(figsize=(40,40))\n",
    "    plt.imshow(new_cqt, origin='lower')\n",
    "    plt.show()\n",
    "    break"
   ]
  }
 ],
 "metadata": {
  "kernelspec": {
   "display_name": "Python 3",
   "language": "python",
   "name": "python3"
  },
  "language_info": {
   "codemirror_mode": {
    "name": "ipython",
    "version": 3
   },
   "file_extension": ".py",
   "mimetype": "text/x-python",
   "name": "python",
   "nbconvert_exporter": "python",
   "pygments_lexer": "ipython3",
   "version": "3.8.5"
  }
 },
 "nbformat": 4,
 "nbformat_minor": 5
}
