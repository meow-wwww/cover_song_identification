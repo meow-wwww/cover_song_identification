{
 "cells": [
  {
   "cell_type": "code",
   "execution_count": null,
   "id": "premium-exploration",
   "metadata": {},
   "outputs": [],
   "source": [
    "import sys \n",
    "sys.path.append(\"../..\")\n",
    "from less_bins.prepare_data_and_label import compute_hcqt\n",
    "import data_generator\n",
    "import model_unet\n",
    "import torch\n",
    "import torch.nn as nn\n",
    "import matplotlib.pyplot as plt\n",
    "import os\n",
    "import numpy as np\n",
    "from multiprocessing import Pool\n",
    "from tqdm import tqdm\n",
    "import argparse"
   ]
  },
  {
   "cell_type": "code",
   "execution_count": null,
   "id": "important-prospect",
   "metadata": {},
   "outputs": [],
   "source": [
    "parser = argparse.ArgumentParser()\n",
    "parser.add_argument('-w', '--wan', help='目标存储目录')\n",
    "\n",
    "args = parser.parse_args()\n",
    "start = int(args.wan)*10000\n",
    "end = (int(args.wan)+1)*10000\n",
    "\n",
    "print(f'[{start}:{end}]')"
   ]
  },
  {
   "cell_type": "code",
   "execution_count": null,
   "id": "sublime-sustainability",
   "metadata": {},
   "outputs": [],
   "source": [
    "import gzip\n",
    " \n",
    "def un_gz(file_name):\n",
    "    \n",
    "    # 获取文件的名称，去掉后缀名\n",
    "    f_name = file_name.replace(\".gz\", \"\")\n",
    "    # 开始解压\n",
    "    g_file = gzip.GzipFile(file_name)\n",
    "    #读取解压后的文件，并写入去掉后缀名的同名文件（即得到解压后的文件）\n",
    "    open(f_name, \"wb+\").write(g_file.read())\n",
    "    g_file.close()"
   ]
  },
  {
   "cell_type": "code",
   "execution_count": null,
   "id": "vulnerable-worst",
   "metadata": {},
   "outputs": [],
   "source": [
    "in_dir = '/S3/DAA/data/'\n",
    "out_dir = '/S3/DAA/shs100k/melody-3bin/'"
   ]
  },
  {
   "cell_type": "code",
   "execution_count": null,
   "id": "powered-renewal",
   "metadata": {},
   "outputs": [],
   "source": [
    "model = model_unet.UNet().cuda()\n",
    "model = nn.DataParallel(model)\n",
    "model.load_state_dict(torch.load('../../model/6.1/0/model_floor0_best.pth'))\n",
    "model.eval()\n",
    "pass"
   ]
  },
  {
   "cell_type": "code",
   "execution_count": null,
   "id": "thorough-client",
   "metadata": {},
   "outputs": [],
   "source": [
    "def CQT(args):\n",
    "    try:\n",
    "        in_path, out_path = args\n",
    "        hcqt = compute_hcqt(in_path)\n",
    "        out = data_generator.hcqt_to_melody(hcqt, model, threshold=0.4)\n",
    "        mean_size = 20\n",
    "        height, length = out.shape\n",
    "        new_cqt = np.zeros((height,int(length/mean_size)),dtype=np.float64)\n",
    "        for i in range(int(length/mean_size)):\n",
    "            new_cqt[:,i] = out[:,i*mean_size:(i+1)*mean_size].mean(axis=1)\n",
    "        np.save(out_path, new_cqt)\n",
    "        print(f\"saved {out_path.split('/')[-1]}\")\n",
    "    except:\n",
    "        print('wa', in_path)"
   ]
  },
  {
   "cell_type": "code",
   "execution_count": null,
   "id": "specific-centre",
   "metadata": {},
   "outputs": [],
   "source": [
    "params =[]\n",
    "for ii, (root, dirs, files) in tqdm(enumerate(os.walk(in_dir))):\n",
    "    if len(files):\n",
    "        for file in files:\n",
    "            in_path = os.path.join(root,file)\n",
    "            set_id = root.split('/')[-1]\n",
    "            out_path = out_dir + set_id + '_' + file.split('.')[0] + '.npy'\n",
    "            params.append((in_path, out_path))\n",
    "\n",
    "params = params[start:end]"
   ]
  },
  {
   "cell_type": "code",
   "execution_count": null,
   "id": "weighted-physics",
   "metadata": {},
   "outputs": [],
   "source": [
    "print('begin')\n",
    "for param in tqdm(params):\n",
    "    CQT(param)"
   ]
  }
 ],
 "metadata": {
  "kernelspec": {
   "display_name": "Python 3",
   "language": "python",
   "name": "python3"
  },
  "language_info": {
   "codemirror_mode": {
    "name": "ipython",
    "version": 3
   },
   "file_extension": ".py",
   "mimetype": "text/x-python",
   "name": "python",
   "nbconvert_exporter": "python",
   "pygments_lexer": "ipython3",
   "version": "3.8.5"
  }
 },
 "nbformat": 4,
 "nbformat_minor": 5
}
