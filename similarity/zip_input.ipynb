{
 "cells": [
  {
   "cell_type": "code",
   "execution_count": 1,
   "id": "7258c0f3",
   "metadata": {},
   "outputs": [],
   "source": [
    "import os\n",
    "from tqdm import tqdm\n",
    "import numpy as np"
   ]
  },
  {
   "cell_type": "code",
   "execution_count": 2,
   "id": "d99ab214",
   "metadata": {},
   "outputs": [],
   "source": [
    "to_be_zip = os.listdir('/S3/DAA/gdoras_dataset/train/multif0_cqts_padded_1937x72')"
   ]
  },
  {
   "cell_type": "code",
   "execution_count": null,
   "id": "894b210b",
   "metadata": {},
   "outputs": [],
   "source": [
    "for file in tqdm(to_be_zip[0:1]):\n",
    "    try:\n",
    "        data = np.load(os.path.join('/S3/DAA/gdoras_dataset/train/multif0_cqts_padded_1937x72', file))\n",
    "        mean_size = 5\n",
    "        height, length = data.shape\n",
    "        new_cqt = np.zeros((height, int(length/mean_size)),dtype=np.float64)\n",
    "        for i in range(int(length/mean_size)):\n",
    "            new_cqt[:, i] = data[:, i*mean_size:(i+1)*mean_size].mean(axis=1)\n",
    "        np.save(os.path.join(f'/S3/DAA/gdoras_dataset/avg{mean_size}/train', file), new_cqt)\n",
    "    except:\n",
    "        print(f'error: {file}')"
   ]
  },
  {
   "cell_type": "markdown",
   "id": "2c7bc682",
   "metadata": {},
   "source": [
    "# transpose"
   ]
  },
  {
   "cell_type": "code",
   "execution_count": 4,
   "id": "5b85e63d",
   "metadata": {},
   "outputs": [],
   "source": [
    "import os\n",
    "from tqdm import tqdm\n",
    "import numpy as np"
   ]
  },
  {
   "cell_type": "code",
   "execution_count": 17,
   "id": "3d5e8986",
   "metadata": {},
   "outputs": [],
   "source": [
    "path = '/S3/DAA/gdoras_dataset/test/multif0_cqts_padded_1937x72/'\n",
    "\n",
    "to_be_zip = os.listdir(path)"
   ]
  },
  {
   "cell_type": "code",
   "execution_count": 18,
   "id": "eae40ac8",
   "metadata": {},
   "outputs": [
    {
     "name": "stderr",
     "output_type": "stream",
     "text": [
      "  6%|███▉                                                                  | 2737/48485 [00:56<14:40, 51.93it/s]"
     ]
    },
    {
     "name": "stdout",
     "output_type": "stream",
     "text": [
      "error:README.txt\n"
     ]
    },
    {
     "name": "stderr",
     "output_type": "stream",
     "text": [
      " 28%|███████████████████▍                                                 | 13641/48485 [04:40<11:25, 50.86it/s]"
     ]
    },
    {
     "name": "stdout",
     "output_type": "stream",
     "text": [
      "error:log.txt\n"
     ]
    },
    {
     "name": "stderr",
     "output_type": "stream",
     "text": [
      "100%|█████████████████████████████████████████████████████████████████████| 48485/48485 [15:59<00:00, 50.52it/s]\n"
     ]
    }
   ],
   "source": [
    "for file in tqdm(to_be_zip):\n",
    "    try:\n",
    "        data = np.load(os.path.join(path, file))\n",
    "        np.save(os.path.join(path, file), data.T)\n",
    "    except:\n",
    "        print(f'error:{file}')"
   ]
  },
  {
   "cell_type": "code",
   "execution_count": null,
   "id": "9604af1a",
   "metadata": {},
   "outputs": [],
   "source": []
  }
 ],
 "metadata": {
  "kernelspec": {
   "display_name": "Python 3 (ipykernel)",
   "language": "python",
   "name": "python3"
  },
  "language_info": {
   "codemirror_mode": {
    "name": "ipython",
    "version": 3
   },
   "file_extension": ".py",
   "mimetype": "text/x-python",
   "name": "python",
   "nbconvert_exporter": "python",
   "pygments_lexer": "ipython3",
   "version": "3.8.5"
  }
 },
 "nbformat": 4,
 "nbformat_minor": 5
}
