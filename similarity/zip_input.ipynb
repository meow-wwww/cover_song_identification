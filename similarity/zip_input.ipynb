{
 "cells": [
  {
   "cell_type": "code",
   "execution_count": 5,
   "id": "479b7ba2",
   "metadata": {},
   "outputs": [],
   "source": [
    "import os\n",
    "from tqdm import tqdm\n",
    "import numpy as np"
   ]
  },
  {
   "cell_type": "code",
   "execution_count": 7,
   "id": "b61b259d",
   "metadata": {},
   "outputs": [],
   "source": [
    "in_path = '/S3/DAA/gdoras_dataset/test/multif0_cqts_padded_1937x72'\n",
    "\n",
    "to_be_zip = os.listdir(in_path)"
   ]
  },
  {
   "cell_type": "code",
   "execution_count": null,
   "id": "a352e2df",
   "metadata": {},
   "outputs": [
    {
     "name": "stderr",
     "output_type": "stream",
     "text": [
      "  6%|███▉                                                                  | 2737/48485 [00:28<07:49, 97.41it/s]"
     ]
    },
    {
     "name": "stdout",
     "output_type": "stream",
     "text": [
      "error: README.txt\n"
     ]
    },
    {
     "name": "stderr",
     "output_type": "stream",
     "text": [
      " 28%|███████████████████▍                                                 | 13646/48485 [02:22<05:54, 98.15it/s]"
     ]
    },
    {
     "name": "stdout",
     "output_type": "stream",
     "text": [
      "error: log.txt\n"
     ]
    },
    {
     "name": "stderr",
     "output_type": "stream",
     "text": [
      " 87%|███████████████████████████████████████████████████████████▉         | 42142/48485 [07:20<01:14, 85.53it/s]"
     ]
    }
   ],
   "source": [
    "for file in tqdm(to_be_zip):\n",
    "    try:\n",
    "        data = np.load(os.path.join(in_path, file))\n",
    "        mean_size = 5\n",
    "        height, length = data.shape\n",
    "        new_cqt = np.zeros((height, int(length/mean_size)),dtype=np.float64)\n",
    "        for i in range(int(length/mean_size)):\n",
    "            new_cqt[:, i] = data[:, i*mean_size:(i+1)*mean_size].mean(axis=1)\n",
    "        np.save(os.path.join(f'/S3/DAA/gdoras_dataset/avg{mean_size}/test/multif0_cqts_padded_1937x72', file), new_cqt)\n",
    "    except:\n",
    "        print(f'error: {file}')"
   ]
  },
  {
   "cell_type": "markdown",
   "id": "7c2afe91",
   "metadata": {},
   "source": [
    "# transpose"
   ]
  },
  {
   "cell_type": "code",
   "execution_count": 4,
   "id": "8fcc865a",
   "metadata": {},
   "outputs": [],
   "source": [
    "import os\n",
    "from tqdm import tqdm\n",
    "import numpy as np"
   ]
  },
  {
   "cell_type": "code",
   "execution_count": 17,
   "id": "1b80fa49",
   "metadata": {},
   "outputs": [],
   "source": [
    "path = '/S3/DAA/gdoras_dataset/test/multif0_cqts_padded_1937x72/'\n",
    "\n",
    "to_be_zip = os.listdir(path)"
   ]
  },
  {
   "cell_type": "code",
   "execution_count": 18,
   "id": "5a54855b",
   "metadata": {},
   "outputs": [
    {
     "name": "stderr",
     "output_type": "stream",
     "text": [
      "  6%|███▉                                                                  | 2737/48485 [00:56<14:40, 51.93it/s]"
     ]
    },
    {
     "name": "stdout",
     "output_type": "stream",
     "text": [
      "error:README.txt\n"
     ]
    },
    {
     "name": "stderr",
     "output_type": "stream",
     "text": [
      " 28%|███████████████████▍                                                 | 13641/48485 [04:40<11:25, 50.86it/s]"
     ]
    },
    {
     "name": "stdout",
     "output_type": "stream",
     "text": [
      "error:log.txt\n"
     ]
    },
    {
     "name": "stderr",
     "output_type": "stream",
     "text": [
      "100%|█████████████████████████████████████████████████████████████████████| 48485/48485 [15:59<00:00, 50.52it/s]\n"
     ]
    }
   ],
   "source": [
    "for file in tqdm(to_be_zip):\n",
    "    try:\n",
    "        data = np.load(os.path.join(path, file))\n",
    "        np.save(os.path.join(path, file), data.T)\n",
    "    except:\n",
    "        print(f'error:{file}')"
   ]
  },
  {
   "cell_type": "code",
   "execution_count": null,
   "id": "decf06b4",
   "metadata": {},
   "outputs": [],
   "source": []
  }
 ],
 "metadata": {
  "kernelspec": {
   "display_name": "Python 3 (ipykernel)",
   "language": "python",
   "name": "python3"
  },
  "language_info": {
   "codemirror_mode": {
    "name": "ipython",
    "version": 3
   },
   "file_extension": ".py",
   "mimetype": "text/x-python",
   "name": "python",
   "nbconvert_exporter": "python",
   "pygments_lexer": "ipython3",
   "version": "3.8.5"
  }
 },
 "nbformat": 4,
 "nbformat_minor": 5
}
