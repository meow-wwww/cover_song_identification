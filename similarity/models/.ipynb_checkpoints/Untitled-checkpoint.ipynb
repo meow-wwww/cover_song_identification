{
 "cells": [
  {
   "cell_type": "code",
   "execution_count": 16,
   "metadata": {},
   "outputs": [],
   "source": [
    "import torch\n",
    "from torch import nn\n",
    "import torchvision\n",
    "import torch.nn.functional as F\n",
    "from collections import OrderedDict\n",
    "import math\n",
    "#from .basic_module import BasicModule\n",
    "\n",
    "def SPP(x, pool_size):\n",
    "    N, C, H, W = x.size()\n",
    "    for i in range(len(pool_size)):\n",
    "        maxpool = nn.AdaptiveMaxPool2d((H, pool_size[i]))\n",
    "        if i==0: spp = maxpool(x).view(N, -1)\n",
    "        else: spp = torch.cat((spp, maxpool(x).view(N, -1)),1)\n",
    "    return spp\n",
    "\n",
    "\n",
    "class SELayer(nn.Module):\n",
    "    def __init__(self, channel, reduction=16):\n",
    "        super(SELayer, self).__init__()\n",
    "        self.avg_pool = nn.AdaptiveAvgPool2d(1)\n",
    "        self.fc = nn.Sequential(\n",
    "            nn.Linear(channel, channel // reduction),\n",
    "            nn.ReLU(inplace=True),\n",
    "            nn.Linear(channel // reduction, channel),\n",
    "            nn.Sigmoid()\n",
    "        )\n",
    "\n",
    "    def forward(self, x):\n",
    "        b, c, _, _ = x.size()\n",
    "        y = self.avg_pool(x).view(b, c)\n",
    "        y = self.fc(y).view(b, c, 1, 1)\n",
    "        return x * y\n",
    "\n",
    "\n",
    "class DenseSPPNet(nn.Module):\n",
    "    def __init__(self, num_classes=10000):\n",
    "        super().__init__()\n",
    "        # input [N, C, H, W]\n",
    "        # First convolution\n",
    "        #频带卷积结构，输入nx23,经过75x12的卷积核，得到[C=64, H=12, W=n-d+1]的特征\n",
    "        #再经过12x1的池化操作得到[64, 1, n-d+1 x1 ]\n",
    "        self.features = nn.Sequential(OrderedDict([\n",
    "            ('conv0', nn.Conv2d(in_channels=1, out_channels= 64,\n",
    "                                kernel_size=(12, 50), stride=(1, 1), bias=False)),\n",
    "            ('norm0', nn.BatchNorm2d(64)),\n",
    "            ('relu0', nn.ReLU()),\n",
    "            ('pool0', nn.MaxPool2d(kernel_size=(12,1), stride=(1,1))),\n",
    "        ]))\n",
    "        self.conv1 = nn.Sequential(OrderedDict([\n",
    "            ('conv0', nn.Conv2d(in_channels=64, out_channels=64,\n",
    "                                kernel_size=(1,3), padding=(0,1), bias=False)),\n",
    "            ('norm0', nn.BatchNorm2d(64)),\n",
    "            ('relu0', nn.ReLU()),\n",
    "            ('se0', SELayer(64)),\n",
    "        ]))\n",
    "        \n",
    "        self.conv2 = nn.Sequential(OrderedDict([\n",
    "            ('conv0', nn.Conv2d(in_channels=128, out_channels=64,\n",
    "                                kernel_size=(1,1), bias=False)),\n",
    "            ('norm0', nn.BatchNorm2d(64)),\n",
    "            ('relu0', nn.ReLU()),\n",
    "            ('conv1', nn.Conv2d(in_channels=64, out_channels=128,\n",
    "                                kernel_size=(1,3), padding=(0,1), bias=False)),\n",
    "            ('norm1', nn.BatchNorm2d(128)),\n",
    "            ('relu1', nn.ReLU()),\n",
    "            ('se0', SELayer(128)),\n",
    "        ]))\n",
    "        \n",
    "        self.conv3 = nn.Sequential(OrderedDict([\n",
    "            ('conv0', nn.Conv2d(in_channels=256, out_channels=128,\n",
    "                                kernel_size=(1,1), bias=False)),\n",
    "            ('norm0', nn.BatchNorm2d(128)),\n",
    "            ('relu0', nn.ReLU()),\n",
    "            ('conv1', nn.Conv2d(in_channels=128, out_channels=256,\n",
    "                                kernel_size=(1,3), padding=(0,1), bias=False)),\n",
    "            ('norm1', nn.BatchNorm2d(256)),\n",
    "            ('relu1', nn.ReLU()),\n",
    "            ('se0', SELayer(256)),\n",
    "        ]))\n",
    "        \n",
    "        self.conv4 = nn.Sequential(OrderedDict([\n",
    "            ('conv0', nn.Conv2d(in_channels=512, out_channels=256,\n",
    "                                kernel_size=(1,1), bias=False)),\n",
    "            ('norm0', nn.BatchNorm2d(256)),\n",
    "            ('relu0', nn.ReLU()),\n",
    "            ('conv1', nn.Conv2d(in_channels=256, out_channels=512,\n",
    "                                kernel_size=(1,3), padding=(0,1), bias=False)),\n",
    "            ('norm1', nn.BatchNorm2d(512)),\n",
    "            ('relu1', nn.ReLU()),\n",
    "            ('se0', SELayer(512)),\n",
    "        ]))\n",
    "        \n",
    "        \n",
    "        #self.spp = SPP([16,10,6,4,2,1])\n",
    "        self.fc0 = nn.Linear(39936, 2048)\n",
    "        self.fc1 = nn.Linear(2048, num_classes)\n",
    "    def forward(self, x):\n",
    "        # input [N, C, H, W] (W = 394)\n",
    "        N = x.size()[0]\n",
    "        x0 = self.features(x) # [N, 64, 1, 320]\n",
    "        \n",
    "        x1 = self.conv1(x0) #  [N, 64, 1, 320]\n",
    "        x1 = torch.cat([x0, x1], 1) # 128c [N, 128, 1, 320]\n",
    "        x1 = F.max_pool2d(x1,(1,2)) # [N, 128, 1, 160]\n",
    "        \n",
    "        x2 = self.conv2(x1) #  [N, 128, 1, 160]\n",
    "        x2 = torch.cat([x1, x2], 1) # 128c [N, 256, 1, 160]\n",
    "        x2 = F.max_pool2d(x2,(1,2)) # [N, 256, 1, 80]\n",
    "        \n",
    "        x3 = self.conv3(x2) #  [N, 256, 1, 80]\n",
    "        x3 = torch.cat([x2, x3], 1) # 128c [N, 512, 1, 80]\n",
    "        x3 = F.max_pool2d(x3,(1,2)) # [N, 512, 1, 40]\n",
    "        \n",
    "        x4 = self.conv4(x3) #  [N, 512, 1, 40]\n",
    "        x4 = torch.cat([x3, x4], 1) #  [N, 1024, 1, 40]\n",
    "        x4 = F.max_pool2d(x4,(1,2)) # [N, 1024, 1, 20]\n",
    "        \n",
    "        \n",
    "        x = SPP(x4, [16,10,6,4,2,1]) # [N, 1024, 1, sum()=39]\n",
    "        x = x.view(N,-1)\n",
    "        feature = self.fc0(x)\n",
    "        x = self.fc1(feature)\n",
    "\n",
    "        return x, feature\n",
    "\n",
    "\n",
    "\n",
    "\n",
    "\n",
    "\n"
   ]
  },
  {
   "cell_type": "code",
   "execution_count": 17,
   "metadata": {},
   "outputs": [],
   "source": [
    "input = torch.randn(10,1,23,394)\n",
    "net = DenseSPPNet()\n",
    "output = net(input)"
   ]
  },
  {
   "cell_type": "code",
   "execution_count": 18,
   "metadata": {},
   "outputs": [
    {
     "data": {
      "text/plain": [
       "torch.Size([10, 2048])"
      ]
     },
     "execution_count": 18,
     "metadata": {},
     "output_type": "execute_result"
    }
   ],
   "source": [
    "output[1].shape"
   ]
  },
  {
   "cell_type": "code",
   "execution_count": 21,
   "metadata": {},
   "outputs": [],
   "source": [
    "c = nn.Conv2d(in_channels=1, out_channels=2,kernel_size=(1,3), padding=(0,1), bias=False)\n",
    "d= nn.Conv2d(in_channels=1, out_channels=2,kernel_size=(1,3), padding=(0,1), bias=False)"
   ]
  },
  {
   "cell_type": "code",
   "execution_count": 22,
   "metadata": {},
   "outputs": [
    {
     "data": {
      "text/plain": [
       "Parameter containing:\n",
       "tensor([[[[ 0.4679,  0.3605, -0.4662]]],\n",
       "\n",
       "\n",
       "        [[[ 0.4143,  0.3064,  0.5400]]]], requires_grad=True)"
      ]
     },
     "execution_count": 22,
     "metadata": {},
     "output_type": "execute_result"
    }
   ],
   "source": [
    "c.weight"
   ]
  },
  {
   "cell_type": "code",
   "execution_count": 32,
   "metadata": {},
   "outputs": [],
   "source": [
    "nn.BatchNorm2d?"
   ]
  },
  {
   "cell_type": "code",
   "execution_count": 30,
   "metadata": {},
   "outputs": [
    {
     "data": {
      "text/plain": [
       "Parameter containing:\n",
       "tensor([0., 0.], requires_grad=True)"
      ]
     },
     "execution_count": 30,
     "metadata": {},
     "output_type": "execute_result"
    }
   ],
   "source": [
    "b.bias"
   ]
  },
  {
   "cell_type": "code",
   "execution_count": 40,
   "metadata": {},
   "outputs": [],
   "source": [
    "a = torch.Tensor([1,2,1,1,2,0])"
   ]
  },
  {
   "cell_type": "code",
   "execution_count": 50,
   "metadata": {},
   "outputs": [],
   "source": [
    "s = set(a.tolist())"
   ]
  },
  {
   "cell_type": "code",
   "execution_count": 49,
   "metadata": {},
   "outputs": [
    {
     "name": "stdout",
     "output_type": "stream",
     "text": [
      "1\n",
      "3\n",
      "2\n"
     ]
    }
   ],
   "source": [
    "for it in s:\n",
    "    print(a.tolist().count(it))"
   ]
  },
  {
   "cell_type": "code",
   "execution_count": 38,
   "metadata": {},
   "outputs": [
    {
     "data": {
      "text/plain": [
       "[1.0, 2.0, 1.0, 1.0, 2.0, 0.0]"
      ]
     },
     "execution_count": 38,
     "metadata": {},
     "output_type": "execute_result"
    }
   ],
   "source": [
    "a.tolist()"
   ]
  },
  {
   "cell_type": "code",
   "execution_count": 44,
   "metadata": {},
   "outputs": [
    {
     "data": {
      "text/plain": [
       "{tensor(0.), tensor(1.), tensor(1.), tensor(1.), tensor(2.), tensor(2.)}"
      ]
     },
     "execution_count": 44,
     "metadata": {},
     "output_type": "execute_result"
    }
   ],
   "source": [
    "s.union()"
   ]
  },
  {
   "cell_type": "code",
   "execution_count": 51,
   "metadata": {},
   "outputs": [
    {
     "data": {
      "text/plain": [
       "tensor(3)"
      ]
     },
     "execution_count": 51,
     "metadata": {},
     "output_type": "execute_result"
    }
   ],
   "source": [
    "(a==1).sum()"
   ]
  },
  {
   "cell_type": "code",
   "execution_count": 55,
   "metadata": {},
   "outputs": [
    {
     "data": {
      "text/plain": [
       "3"
      ]
     },
     "execution_count": 55,
     "metadata": {},
     "output_type": "execute_result"
    }
   ],
   "source": [
    "len(a[a==1])"
   ]
  },
  {
   "cell_type": "code",
   "execution_count": 57,
   "metadata": {},
   "outputs": [
    {
     "data": {
      "text/plain": [
       "3"
      ]
     },
     "execution_count": 57,
     "metadata": {},
     "output_type": "execute_result"
    }
   ],
   "source": [
    "a.tolist().count(1)"
   ]
  },
  {
   "cell_type": "code",
   "execution_count": 60,
   "metadata": {},
   "outputs": [],
   "source": [
    "\n",
    "def SPP(x, pool_size):\n",
    "    N, C, H, W = x.size()\n",
    "    for i in range(len(pool_size)):\n",
    "        maxpool = nn.AdaptiveMaxPool2d((H, pool_size[i]))\n",
    "        if i==0: spp = maxpool(x).view(N, -1)\n",
    "        else: spp = torch.cat((spp, maxpool(x).view(N, -1)),1)\n",
    "    return spp\n",
    "\n",
    "\n",
    "class SELayer(nn.Module):\n",
    "    def __init__(self, channel, reduction=16):\n",
    "        super(SELayer, self).__init__()\n",
    "        self.avg_pool = nn.AdaptiveAvgPool2d(1)\n",
    "        self.fc = nn.Sequential(\n",
    "            nn.Linear(channel, channel // reduction),\n",
    "            nn.ReLU(inplace=True),\n",
    "            nn.Linear(channel // reduction, channel),\n",
    "            nn.Sigmoid()\n",
    "        )\n",
    "\n",
    "    def forward(self, x):\n",
    "        b, c, _, _ = x.size()\n",
    "        y = self.avg_pool(x).view(b, c)\n",
    "        y = self.fc(y).view(b, c, 1, 1)\n",
    "        return x * y\n",
    "\n",
    "\n",
    "class ResSPPNet(nn.Module):\n",
    "    def __init__(self, num_classes=10000):\n",
    "        super().__init__()\n",
    "        # input [N, C, H, W]\n",
    "        # First convolution\n",
    "        #频带卷积结构，输入nx23,经过75x12的卷积核，得到[C=64, H=12, W=n-d+1]的特征\n",
    "        #再经过12x1的池化操作得到[64, 1, n-d+1 x1 ]\n",
    "        self.features = nn.Sequential(OrderedDict([\n",
    "            ('conv0', nn.Conv2d(in_channels=1, out_channels= 64,\n",
    "                                kernel_size=(12, 75), stride=(1, 1), bias=False)),\n",
    "            ('norm0', nn.BatchNorm2d(64)),\n",
    "            ('relu0', nn.ReLU(inplace=True)),\n",
    "            ('pool0', nn.MaxPool2d(kernel_size=(12,1), stride=(1,1))),\n",
    "        ]))\n",
    "        \n",
    "        self.conv1_1 = nn.Conv2d(64, 64, kernel_size=(1, 3), padding = (0, 1))\n",
    "        self.conv1_2 = nn.Conv2d(64, 64, kernel_size=(1, 3), padding = (0, 1))\n",
    "        self.conv1_res = nn.Conv2d(64, 64, 1)\n",
    "\n",
    "        self.conv2_1 = nn.Conv2d(64, 128, kernel_size=(1, 3), stride=2, padding = (0, 1))\n",
    "        self.conv2_2 = nn.Conv2d(128, 128, kernel_size=(1, 3), padding = (0, 1))\n",
    "        self.conv2_res = nn.Conv2d(64, 128, 1, stride=2)\n",
    "\n",
    "        self.conv3_1 = nn.Conv2d(128, 256, kernel_size=(1, 3), stride=2, padding = (0, 1))\n",
    "        self.conv3_2 = nn.Conv2d(256, 256, kernel_size=(1, 3), padding = (0, 1))\n",
    "        self.conv3_res = nn.Conv2d(128, 256, 1, stride=2)\n",
    "\n",
    "        self.conv4_1 = nn.Conv2d(256, 512, kernel_size=(1, 3), stride=2, padding = (0, 1))\n",
    "        self.conv4_2 = nn.Conv2d(512, 512, kernel_size=(1, 3), padding = (0, 1))\n",
    "        self.conv4_res = nn.Conv2d(256, 512, 1, stride=2)\n",
    "        \n",
    "        \n",
    "        #self.spp = SPP([16,10,6,4,2,1])\n",
    "        self.fc0 = nn.Linear(19968, 2048)\n",
    "        self.fc1 = nn.Linear(2048, num_classes)\n",
    "    def forward(self, x):\n",
    "        # input [N, C, H, W] (W = 394)\n",
    "        N = x.size()[0]\n",
    "        x = self.features(x) # [N, 64, 1, 320]\n",
    "        print(x.shape)\n",
    "        b1_x = self.conv1_res(x) + self.conv1_2(F.relu(self.conv1_1(x)))\n",
    "        # x = F.dropout(b1_x, training=self.training)\n",
    "        x = F.relu(b1_x)\n",
    "        print(x.shape)\n",
    "        b2_x = self.conv2_res(x) + self.conv2_2(F.relu(self.conv2_1(x)))\n",
    "        # x = F.dropout(b2_x, training=self.training)\n",
    "        x = F.relu(b2_x)\n",
    "        print(x.shape)\n",
    "    \n",
    "        b3_x = self.conv3_res(x) + self.conv3_2(F.relu(self.conv3_1(x)))\n",
    "        # x = F.dropout(b3_x, training=self.training)\n",
    "        x = F.relu(b3_x)\n",
    "        print(x.shape)\n",
    "        \n",
    "        b4_x = self.conv4_res(x) + self.conv4_2(F.relu(self.conv4_1(x)))\n",
    "        # x = F.dropout(b4_x, training=self.training)\n",
    "        x = F.relu(b4_x)\n",
    "        print(x.shape)\n",
    "        \n",
    "        \n",
    "        x = SPP(x4, [16,10,6,4,2,1]) # [N, 512, 1, sum()=39]\n",
    "        print(x.shape)\n",
    "        x = x.view(N,-1)\n",
    "        print(x.shape)\n",
    "        feature = self.fc0(x)\n",
    "        print(x.shape)\n",
    "        x = self.fc1(feature)\n",
    "        print(x.shape)\n",
    "\n",
    "        return x, feature\n",
    "\n"
   ]
  },
  {
   "cell_type": "code",
   "execution_count": null,
   "metadata": {},
   "outputs": [],
   "source": []
  }
 ],
 "metadata": {
  "kernelspec": {
   "display_name": "Python 3",
   "language": "python",
   "name": "python3"
  },
  "language_info": {
   "codemirror_mode": {
    "name": "ipython",
    "version": 3
   },
   "file_extension": ".py",
   "mimetype": "text/x-python",
   "name": "python",
   "nbconvert_exporter": "python",
   "pygments_lexer": "ipython3",
   "version": "3.6.4"
  }
 },
 "nbformat": 4,
 "nbformat_minor": 2
}
