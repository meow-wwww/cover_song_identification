{
 "cells": [
  {
   "cell_type": "code",
   "execution_count": 1,
   "id": "naval-there",
   "metadata": {},
   "outputs": [],
   "source": [
    "f = open('./examples.csv')\n",
    "lines = f.readlines()"
   ]
  },
  {
   "cell_type": "code",
   "execution_count": 6,
   "id": "proper-stroke",
   "metadata": {},
   "outputs": [],
   "source": [
    "sid_vid = {}\n",
    "for line in lines:\n",
    "    line = line[0:-1]\n",
    "    sid = int(line.split(',')[0])\n",
    "    vid = list(map(int, line.split(',')[1:]))\n",
    "    sid_vid[sid] = vid"
   ]
  },
  {
   "cell_type": "code",
   "execution_count": 9,
   "id": "extended-plate",
   "metadata": {},
   "outputs": [],
   "source": [
    "import random"
   ]
  },
  {
   "cell_type": "code",
   "execution_count": 17,
   "id": "metric-diagram",
   "metadata": {},
   "outputs": [],
   "source": [
    "w = open('gdoras_train_triplet.list', 'w')\n",
    "\n",
    "for sid, vid_list in sid_vid.items():\n",
    "    for vid in vid_list:\n",
    "        while True:\n",
    "            pos = random.choice(vid_list)\n",
    "            if vid != pos:\n",
    "                break\n",
    "        neg_sid = random.choice(list(sid_vid.keys()))\n",
    "        neg = random.choice(sid_vid[neg_sid])\n",
    "        w.write(f'{sid}_{vid},{sid}_{pos},{neg_sid}_{neg}\\n')\n",
    "w.close()"
   ]
  },
  {
   "cell_type": "code",
   "execution_count": null,
   "id": "institutional-small",
   "metadata": {},
   "outputs": [],
   "source": []
  }
 ],
 "metadata": {
  "kernelspec": {
   "display_name": "Python [conda env:csi2]",
   "language": "python",
   "name": "conda-env-csi2-py"
  },
  "language_info": {
   "codemirror_mode": {
    "name": "ipython",
    "version": 3
   },
   "file_extension": ".py",
   "mimetype": "text/x-python",
   "name": "python",
   "nbconvert_exporter": "python",
   "pygments_lexer": "ipython3",
   "version": "3.8.5"
  }
 },
 "nbformat": 4,
 "nbformat_minor": 5
}
