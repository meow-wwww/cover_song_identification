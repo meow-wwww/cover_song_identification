{
 "cells": [
  {
   "cell_type": "code",
   "execution_count": 1,
   "id": "099d235b",
   "metadata": {},
   "outputs": [],
   "source": [
    "train_or_test = 'train'\n",
    "scale = 'short'"
   ]
  },
  {
   "cell_type": "code",
   "execution_count": 2,
   "id": "77ca176b",
   "metadata": {},
   "outputs": [],
   "source": [
    "f = open(f'./examples_{train_or_test}.csv')\n",
    "lines = f.readlines()[:5]\n",
    "f.close()"
   ]
  },
  {
   "cell_type": "code",
   "execution_count": 3,
   "id": "011225d6",
   "metadata": {},
   "outputs": [],
   "source": [
    "sid_vid = {}\n",
    "for line in lines:\n",
    "    line = line[0:-1]\n",
    "    sid = int(line.split(',')[0])\n",
    "    vid = list(map(int, line.split(',')[1:]))\n",
    "    sid_vid[sid] = vid"
   ]
  },
  {
   "cell_type": "code",
   "execution_count": 4,
   "id": "2e2355ae",
   "metadata": {},
   "outputs": [],
   "source": [
    "import random\n",
    "from tqdm import tqdm"
   ]
  },
  {
   "cell_type": "code",
   "execution_count": 5,
   "id": "dc687484",
   "metadata": {},
   "outputs": [],
   "source": [
    "w = open(f'gdoras_{train_or_test}_{scale}.list', 'w')\n",
    "\n",
    "for sid, vid_list in sid_vid.items():\n",
    "    for vid in vid_list:\n",
    "        w.write(f'{sid}_{vid}\\n')\n",
    "w.close()"
   ]
  },
  {
   "cell_type": "code",
   "execution_count": null,
   "id": "00e36fb6",
   "metadata": {},
   "outputs": [],
   "source": [
    "w = open(f'gdoras_{train_or_test}_triplet_{scale}.list', 'w')\n",
    "\n",
    "for sid, vid_list in sid_vid.items():\n",
    "    for vid in vid_list:\n",
    "        while True:\n",
    "            pos = random.choice(vid_list)\n",
    "            if vid != pos:\n",
    "                break\n",
    "        while True:\n",
    "            neg_sid = random.choice(list(sid_vid.keys()))\n",
    "            if neg_sid != sid:\n",
    "                break\n",
    "        neg = random.choice(sid_vid[neg_sid])\n",
    "        w.write(f'{sid}_{vid},{sid}_{pos},{neg_sid}_{neg}\\n')\n",
    "w.close()"
   ]
  },
  {
   "cell_type": "code",
   "execution_count": null,
   "id": "da4101c5",
   "metadata": {},
   "outputs": [],
   "source": []
  }
 ],
 "metadata": {
  "kernelspec": {
   "display_name": "Python 3 (ipykernel)",
   "language": "python",
   "name": "python3"
  },
  "language_info": {
   "codemirror_mode": {
    "name": "ipython",
    "version": 3
   },
   "file_extension": ".py",
   "mimetype": "text/x-python",
   "name": "python",
   "nbconvert_exporter": "python",
   "pygments_lexer": "ipython3",
   "version": "3.8.5"
  }
 },
 "nbformat": 4,
 "nbformat_minor": 5
}
