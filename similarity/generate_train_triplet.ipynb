{
 "cells": [
  {
   "cell_type": "markdown",
   "id": "22f8917f",
   "metadata": {},
   "source": [
    "# for gdoras dataset"
   ]
  },
  {
   "cell_type": "code",
   "execution_count": 4,
   "id": "37435259",
   "metadata": {},
   "outputs": [],
   "source": [
    "train_or_test = 'train'\n",
    "scale = 'middle'\n",
    "song_number = 100\n",
    "repeat = 15"
   ]
  },
  {
   "cell_type": "code",
   "execution_count": 5,
   "id": "50d241c1",
   "metadata": {},
   "outputs": [],
   "source": [
    "f = open(f'./list/examples_{train_or_test}.csv')\n",
    "lines = f.readlines()[:song_number]\n",
    "f.close()"
   ]
  },
  {
   "cell_type": "code",
   "execution_count": 7,
   "id": "fc92c44b",
   "metadata": {},
   "outputs": [],
   "source": [
    "sid_vid = {}\n",
    "for line in lines:\n",
    "    line = line[0:-1]\n",
    "    sid = int(line.split(',')[0])\n",
    "    vid = list(map(int, line.split(',')[1:]))\n",
    "    sid_vid[sid] = vid"
   ]
  },
  {
   "cell_type": "code",
   "execution_count": 8,
   "id": "afbb37a5",
   "metadata": {},
   "outputs": [],
   "source": [
    "import random\n",
    "from tqdm import tqdm"
   ]
  },
  {
   "cell_type": "code",
   "execution_count": 9,
   "id": "aecd97c5",
   "metadata": {},
   "outputs": [],
   "source": [
    "w = open(f'list/gdoras_{train_or_test}_{scale}.list', 'w')\n",
    "\n",
    "for sid, vid_list in sid_vid.items():\n",
    "    for vid in vid_list:\n",
    "        w.write(f'{sid}_{vid}\\n')\n",
    "w.close()"
   ]
  },
  {
   "cell_type": "code",
   "execution_count": 10,
   "id": "d5ed1286",
   "metadata": {},
   "outputs": [],
   "source": [
    "w = open(f'list/gdoras_{train_or_test}_triplet_{scale}_r{repeat}.list', 'w')\n",
    "\n",
    "for ii in range(repeat):\n",
    "    for sid, vid_list in sid_vid.items():\n",
    "        for vid in vid_list:\n",
    "            while True:\n",
    "                pos = random.choice(vid_list)\n",
    "                if vid != pos:\n",
    "                    break\n",
    "            while True:\n",
    "                neg_sid = random.choice(list(sid_vid.keys()))\n",
    "                if neg_sid != sid:\n",
    "                    break\n",
    "            neg = random.choice(sid_vid[neg_sid])\n",
    "            w.write(f'{sid}_{vid},{sid}_{pos},{neg_sid}_{neg}\\n')\n",
    "\n",
    "w.close()"
   ]
  },
  {
   "cell_type": "markdown",
   "id": "c5cbd820",
   "metadata": {},
   "source": [
    "# by jcy: for SHS100K"
   ]
  },
  {
   "cell_type": "code",
   "execution_count": 16,
   "id": "e2a47d75",
   "metadata": {},
   "outputs": [],
   "source": [
    "import random\n",
    "def generate_triplet(dic, set_id, ver_id):\n",
    "    # 给当前的歌曲信息，构造一个三元组\n",
    "    \n",
    "    # positive\n",
    "    p_set = set_id\n",
    "    p_ver2 = random.sample(dic[set_id], 2)\n",
    "    if p_ver2[0] == ver_id: \n",
    "        p_ver = p_ver2[1]\n",
    "    else : \n",
    "        p_ver = p_ver2[0]\n",
    "    # negative\n",
    "    n_set2 = random.sample(dic.keys(), 2)\n",
    "    if n_set2[0] == set_id: \n",
    "        n_set = n_set2[1]\n",
    "    else : \n",
    "        n_set = n_set2[0]\n",
    "    n_ver = random.sample(dic[n_set], 1)[0]\n",
    "    return str(p_set)+'_'+str(p_ver), str(n_set)+'_'+str(n_ver)"
   ]
  },
  {
   "cell_type": "code",
   "execution_count": 17,
   "id": "6d58bb0a",
   "metadata": {},
   "outputs": [],
   "source": [
    "# GET DIC\n",
    "filepath='list/hpcp_train_list.txt'\n",
    "with open(filepath, 'r') as fp:\n",
    "    file_list = [line.rstrip() for line in fp]"
   ]
  },
  {
   "cell_type": "code",
   "execution_count": 18,
   "id": "ee9327f7",
   "metadata": {},
   "outputs": [],
   "source": [
    "scale = 'middle'\n",
    "file_list = file_list[0:30] + file_list[359:359+30] + file_list[597:597+5] + file_list[602:602+30]"
   ]
  },
  {
   "cell_type": "code",
   "execution_count": 19,
   "id": "a30d8a44",
   "metadata": {},
   "outputs": [],
   "source": [
    "# train: triplet    \n",
    "dic = {}\n",
    "for filename in file_list:\n",
    "    set_id, version_id = filename.split('.')[0].split('_')\n",
    "    set_id, version_id = int(set_id), int(version_id)\n",
    "    if set_id not in dic:\n",
    "        dic[set_id] = []\n",
    "    dic[set_id].append(version_id)\n",
    "\n",
    "\n",
    "# Generate\n",
    "out_path = f'./list/triplet_SHS100K-TRAIN_{scale}.txt'\n",
    "with open(out_path, 'w') as f:\n",
    "    for ii in range(15):\n",
    "        for s, V in dic.items():\n",
    "            for v in V:\n",
    "                a_str = str(s)+'_'+str(v)\n",
    "                p_str, n_str = generate_triplet(dic, s, v)\n",
    "                line = a_str + ',' + p_str + ',' + n_str\n",
    "                f.write(line+'\\n')"
   ]
  },
  {
   "cell_type": "code",
   "execution_count": 20,
   "id": "d450ee4a",
   "metadata": {},
   "outputs": [],
   "source": [
    "# test: single\n",
    "out_path = f'./list/shs100k_{scale}.txt'\n",
    "with open(out_path, 'w') as f:\n",
    "    for filename in file_list:\n",
    "        f.write(filename+'\\n')"
   ]
  },
  {
   "cell_type": "code",
   "execution_count": null,
   "id": "2ee0428d",
   "metadata": {},
   "outputs": [],
   "source": []
  }
 ],
 "metadata": {
  "kernelspec": {
   "display_name": "Python 3 (ipykernel)",
   "language": "python",
   "name": "python3"
  },
  "language_info": {
   "codemirror_mode": {
    "name": "ipython",
    "version": 3
   },
   "file_extension": ".py",
   "mimetype": "text/x-python",
   "name": "python",
   "nbconvert_exporter": "python",
   "pygments_lexer": "ipython3",
   "version": "3.8.5"
  }
 },
 "nbformat": 4,
 "nbformat_minor": 5
}
