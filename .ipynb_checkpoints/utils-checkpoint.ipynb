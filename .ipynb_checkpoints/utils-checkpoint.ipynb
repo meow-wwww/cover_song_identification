{
 "cells": [
  {
   "cell_type": "code",
   "execution_count": 5,
   "id": "conscious-company",
   "metadata": {},
   "outputs": [],
   "source": [
    "import numpy as np\n",
    "import torch\n",
    "import torch.nn as nn"
   ]
  },
  {
   "cell_type": "markdown",
   "id": "lucky-exploration",
   "metadata": {},
   "source": [
    "def salience_to_output(temp, threshold):\n",
    "    out = np.zeros_like(temp)\n",
    "    sm = nn.functional.softmax(torch.tensor(temp), dim=0)\n",
    "    sm[sm < threshold] = 0\n",
    "    idx = sm.argmax(axis=0)\n",
    "    for time, frq in enumerate(idx):\n",
    "        out[frq, time] = 1\n",
    "    return out"
   ]
  },
  {
   "cell_type": "code",
   "execution_count": null,
   "id": "derived-windows",
   "metadata": {},
   "outputs": [],
   "source": [
    "def salience_to_output(temp, threshold=0):\n",
    "    '''\n",
    "    Suitable for multisample.\n",
    "    temp: [N, c, f, t]\n",
    "    '''\n",
    "    out = torch.zeros_like(temp)\n",
    "    sm = nn.functional.softmax(temp, dim=2)    \n",
    "    sm[sm < threshold] = 0\n",
    "    indices = sm.max(axis=2).indices\n",
    "    for n in range(temp.shape[0]):\n",
    "        out[n,0].T.scatter_(dim=1, index=indices[n,0].reshape(33,-1), value=1)\n",
    "    return out"
   ]
  },
  {
   "cell_type": "code",
   "execution_count": null,
   "id": "hollow-ecuador",
   "metadata": {},
   "outputs": [],
   "source": [
    "def downsample(batch_data, num_floor):\n",
    "    rst = batch_data\n",
    "    with torch.no_grad():\n",
    "        for floor in range(0, num_floor):\n",
    "            rst = nn.AvgPool2d(kernel_size=2, stride=2, ceil_mode=True)(rst)\n",
    "    return rst"
   ]
  },
  {
   "cell_type": "code",
   "execution_count": 19,
   "id": "august-vanilla",
   "metadata": {},
   "outputs": [
    {
     "name": "stdout",
     "output_type": "stream",
     "text": [
      "[NbConvertApp] WARNING | Config option `kernel_spec_manager_class` not recognized by `NbConvertApp`.\n",
      "[NbConvertApp] Converting notebook utils.ipynb to python\n",
      "[NbConvertApp] Writing 734 bytes to utils.py\n"
     ]
    }
   ],
   "source": [
    "try:\n",
    "    !jupyter nbconvert --to python utils.ipynb\n",
    "except:\n",
    "    pass"
   ]
  },
  {
   "cell_type": "code",
   "execution_count": null,
   "id": "under-deficit",
   "metadata": {},
   "outputs": [],
   "source": []
  }
 ],
 "metadata": {
  "kernelspec": {
   "display_name": "Python 3",
   "language": "python",
   "name": "python3"
  },
  "language_info": {
   "codemirror_mode": {
    "name": "ipython",
    "version": 3
   },
   "file_extension": ".py",
   "mimetype": "text/x-python",
   "name": "python",
   "nbconvert_exporter": "python",
   "pygments_lexer": "ipython3",
   "version": "3.8.5"
  }
 },
 "nbformat": 4,
 "nbformat_minor": 5
}
