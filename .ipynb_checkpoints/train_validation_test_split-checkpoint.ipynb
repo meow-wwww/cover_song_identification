{
 "cells": [
  {
   "cell_type": "markdown",
   "id": "imperial-costa",
   "metadata": {},
   "source": [
    "# 划分成10个fold，且同一艺术家的歌必须放在不同fold里（Music Delta除外）\n",
    "## 结果存在train_validation_test_split.txt里，除非重新划分，否则这个文件不必再运行了。\n",
    "\n",
    "### 问题：随机的策略不够好，有时候可能找不到合适的划分方式，就死循环了"
   ]
  },
  {
   "cell_type": "code",
   "execution_count": 14,
   "id": "accepted-liechtenstein",
   "metadata": {},
   "outputs": [],
   "source": [
    "import medleydb as mdb\n",
    "import random"
   ]
  },
  {
   "cell_type": "code",
   "execution_count": 16,
   "id": "growing-istanbul",
   "metadata": {},
   "outputs": [],
   "source": [
    "artist_title_dict = {}\n",
    "artist_set = set()\n",
    "multitrack_generator = mdb.load_all_multitracks()\n",
    "for multitrack in multitrack_generator:\n",
    "    if multitrack.has_melody:\n",
    "        if not multitrack.artist in artist_title_dict.keys():\n",
    "            artist_title_dict[multitrack.artist] = []\n",
    "        artist_title_dict[multitrack.artist].append(multitrack.title)\n",
    "        artist_set.add(multitrack.artist)\n",
    "        \n",
    "artist_title_dict['AimeeNorwich'].remove('Child')\n",
    "artist_set.remove('MusicDelta')\n",
    "artist_set = list(artist_set)\n",
    "\n",
    "fold = 10\n",
    "\n",
    "min_num_per_fold = 107//10\n",
    "max_num_per_fold = min_num_per_fold + 1\n",
    "max_fold_num = 107%min_num_per_fold\n",
    "min_fold_num = fold - max_fold_num\n",
    "\n",
    "fold_num_list = [min_num_per_fold] * min_fold_num + [max_num_per_fold] * max_fold_num\n",
    "\n",
    "global_result = []\n",
    "flag = False\n",
    "MusicDelta_list = artist_title_dict['MusicDelta']\n",
    "\n",
    "for fold_index in range(fold):\n",
    "    result = []\n",
    "    if not flag:\n",
    "        while len(result) < fold_num_list[fold_index]:\n",
    "            random_artist_index = random.randint(0, len(artist_set)-1)\n",
    "            while len(result) + len(artist_title_dict[artist_set[random_artist_index]]) > fold_num_list[fold_index]:\n",
    "                random_artist_index = random.randint(0, len(artist_set)-1)\n",
    "            # OK, find an adequate artist\n",
    "            artist = artist_set[random_artist_index]\n",
    "            artist_set.remove(artist)\n",
    "            for title in artist_title_dict[artist]:\n",
    "                result.append('_'.join((artist, title)))\n",
    "            if len(artist_set) == 0:\n",
    "                flag = True\n",
    "                len_left = fold_num_list[fold_index]-len(result)\n",
    "                result += ['MusicDelta_' + i for i in MusicDelta_list[-len_left:]]\n",
    "                MusicDelta_list = MusicDelta_list[:-len_left]\n",
    "                break\n",
    "    else:\n",
    "        result += ['MusicDelta_' + i for i in MusicDelta_list[-fold_num_list[fold_index]:]]\n",
    "        MusicDelta_list = MusicDelta_list[:-fold_num_list[fold_index]]\n",
    "    global_result.append(result)"
   ]
  },
  {
   "cell_type": "code",
   "execution_count": 23,
   "id": "unlikely-madagascar",
   "metadata": {},
   "outputs": [],
   "source": [
    "with open('./train_validation_test_split.txt','w') as f:\n",
    "    for l in global_result:\n",
    "        for i in l:\n",
    "            f.write(i+'\\n')\n",
    "        f.write('\\n')"
   ]
  }
 ],
 "metadata": {
  "kernelspec": {
   "display_name": "Python 3",
   "language": "python",
   "name": "python3"
  },
  "language_info": {
   "codemirror_mode": {
    "name": "ipython",
    "version": 3
   },
   "file_extension": ".py",
   "mimetype": "text/x-python",
   "name": "python",
   "nbconvert_exporter": "python",
   "pygments_lexer": "ipython3",
   "version": "3.8.5"
  }
 },
 "nbformat": 4,
 "nbformat_minor": 5
}
